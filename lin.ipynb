{
 "cells": [
  {
   "cell_type": "code",
   "execution_count": 1,
   "metadata": {},
   "outputs": [],
   "source": [
    "import pandas as pd\n",
    "import numpy as np"
   ]
  },
  {
   "cell_type": "code",
   "execution_count": 2,
   "metadata": {},
   "outputs": [
    {
     "data": {
      "text/html": [
       "<div>\n",
       "<style scoped>\n",
       "    .dataframe tbody tr th:only-of-type {\n",
       "        vertical-align: middle;\n",
       "    }\n",
       "\n",
       "    .dataframe tbody tr th {\n",
       "        vertical-align: top;\n",
       "    }\n",
       "\n",
       "    .dataframe thead th {\n",
       "        text-align: right;\n",
       "    }\n",
       "</style>\n",
       "<table border=\"1\" class=\"dataframe\">\n",
       "  <thead>\n",
       "    <tr style=\"text-align: right;\">\n",
       "      <th></th>\n",
       "      <th>Date</th>\n",
       "      <th>Open</th>\n",
       "      <th>High</th>\n",
       "      <th>Low</th>\n",
       "      <th>Close</th>\n",
       "      <th>Adj Close</th>\n",
       "      <th>Volume</th>\n",
       "    </tr>\n",
       "  </thead>\n",
       "  <tbody>\n",
       "    <tr>\n",
       "      <th>0</th>\n",
       "      <td>13/12/2016</td>\n",
       "      <td>780.646973</td>\n",
       "      <td>788.460022</td>\n",
       "      <td>777.961975</td>\n",
       "      <td>780.556030</td>\n",
       "      <td>780.556030</td>\n",
       "      <td>81645600.0</td>\n",
       "    </tr>\n",
       "    <tr>\n",
       "      <th>1</th>\n",
       "      <td>14/12/2016</td>\n",
       "      <td>780.005005</td>\n",
       "      <td>782.033997</td>\n",
       "      <td>776.838989</td>\n",
       "      <td>781.481018</td>\n",
       "      <td>781.481018</td>\n",
       "      <td>75979000.0</td>\n",
       "    </tr>\n",
       "    <tr>\n",
       "      <th>2</th>\n",
       "      <td>15/12/2016</td>\n",
       "      <td>780.070007</td>\n",
       "      <td>781.434998</td>\n",
       "      <td>777.802002</td>\n",
       "      <td>778.088013</td>\n",
       "      <td>778.088013</td>\n",
       "      <td>81580096.0</td>\n",
       "    </tr>\n",
       "    <tr>\n",
       "      <th>3</th>\n",
       "      <td>16/12/2016</td>\n",
       "      <td>778.963013</td>\n",
       "      <td>785.031982</td>\n",
       "      <td>778.963013</td>\n",
       "      <td>784.906982</td>\n",
       "      <td>784.906982</td>\n",
       "      <td>83608200.0</td>\n",
       "    </tr>\n",
       "    <tr>\n",
       "      <th>4</th>\n",
       "      <td>17/12/2016</td>\n",
       "      <td>785.166016</td>\n",
       "      <td>792.508972</td>\n",
       "      <td>784.864014</td>\n",
       "      <td>790.828979</td>\n",
       "      <td>790.828979</td>\n",
       "      <td>78989800.0</td>\n",
       "    </tr>\n",
       "  </tbody>\n",
       "</table>\n",
       "</div>"
      ],
      "text/plain": [
       "         Date        Open        High         Low       Close   Adj Close  \\\n",
       "0  13/12/2016  780.646973  788.460022  777.961975  780.556030  780.556030   \n",
       "1  14/12/2016  780.005005  782.033997  776.838989  781.481018  781.481018   \n",
       "2  15/12/2016  780.070007  781.434998  777.802002  778.088013  778.088013   \n",
       "3  16/12/2016  778.963013  785.031982  778.963013  784.906982  784.906982   \n",
       "4  17/12/2016  785.166016  792.508972  784.864014  790.828979  790.828979   \n",
       "\n",
       "       Volume  \n",
       "0  81645600.0  \n",
       "1  75979000.0  \n",
       "2  81580096.0  \n",
       "3  83608200.0  \n",
       "4  78989800.0  "
      ]
     },
     "execution_count": 2,
     "metadata": {},
     "output_type": "execute_result"
    }
   ],
   "source": [
    "\n",
    "df=pd.read_csv('BTC-USD.csv',sep=',')\n",
    "df.head()\n",
    "\n"
   ]
  },
  {
   "cell_type": "code",
   "execution_count": 3,
   "metadata": {},
   "outputs": [
    {
     "name": "stdout",
     "output_type": "stream",
     "text": [
      "[1 2 3 4]\n"
     ]
    },
    {
     "data": {
      "text/plain": [
       "(1827, 1)"
      ]
     },
     "execution_count": 3,
     "metadata": {},
     "output_type": "execute_result"
    }
   ],
   "source": [
    "time=df[[\"Date\"]].to_numpy()\n",
    "time.shape\n",
    "time=list(i for i in range (1827))\n",
    "time=np.array(time)\n",
    "\n",
    "print(time[1:5])\n",
    "\n",
    "close_price=df[[\"Close\"]].to_numpy()\n",
    "close_price.shape\n"
   ]
  },
  {
   "cell_type": "code",
   "execution_count": 4,
   "metadata": {},
   "outputs": [],
   "source": [
    "from sklearn.model_selection import train_test_split\n",
    "X_train,X_test, Y_train,Y_test=train_test_split(time,close_price,test_size=0.3, random_state=42)"
   ]
  },
  {
   "cell_type": "code",
   "execution_count": 5,
   "metadata": {},
   "outputs": [
    {
     "name": "stdout",
     "output_type": "stream",
     "text": [
      "(1278,)\n",
      "(1278, 1)\n",
      "(549,)\n",
      "(549, 1)\n"
     ]
    }
   ],
   "source": [
    "print(X_train.shape)\n",
    "print(Y_train.shape)\n",
    "print(X_test.shape)\n",
    "print(Y_test.shape)"
   ]
  },
  {
   "cell_type": "markdown",
   "metadata": {},
   "source": [
    "# Preprocessing"
   ]
  },
  {
   "cell_type": "code",
   "execution_count": 6,
   "metadata": {},
   "outputs": [
    {
     "name": "stdout",
     "output_type": "stream",
     "text": [
      "nan\n",
      "nan\n"
     ]
    }
   ],
   "source": [
    "Ytrain_mean=Y_train.mean()\n",
    "Ytest_mean=Y_test.mean()\n",
    "\n",
    "print(Ytrain_mean)\n",
    "print(Ytest_mean)\n"
   ]
  },
  {
   "cell_type": "code",
   "execution_count": 7,
   "metadata": {},
   "outputs": [
    {
     "name": "stdout",
     "output_type": "stream",
     "text": [
      "[14802.00139011]\n",
      "[16679.8263437]\n"
     ]
    },
    {
     "data": {
      "text/plain": [
       "array([[ 0.53843654],\n",
       "       [-0.44309118],\n",
       "       [-0.63217573],\n",
       "       ...,\n",
       "       [-0.56371307],\n",
       "       [ 0.19526   ],\n",
       "       [-0.39915326]])"
      ]
     },
     "execution_count": 7,
     "metadata": {},
     "output_type": "execute_result"
    }
   ],
   "source": [
    "from sklearn import preprocessing\n",
    "scaler=preprocessing.StandardScaler().fit(Y_train)\n",
    "print(scaler.mean_)\n",
    "print(scaler.scale_)\n",
    "Y_scaled=scaler.transform(Y_train)\n",
    "Y_scaled"
   ]
  }
 ],
 "metadata": {
  "interpreter": {
   "hash": "295f237db84f6e1d57b8b5e6776bbd0890ede2c06c5d1ce3eb1b5f5afe489463"
  },
  "kernelspec": {
   "display_name": "Python 3.7.8 64-bit ('ml-env': venv)",
   "language": "python",
   "name": "python3"
  },
  "language_info": {
   "codemirror_mode": {
    "name": "ipython",
    "version": 3
   },
   "file_extension": ".py",
   "mimetype": "text/x-python",
   "name": "python",
   "nbconvert_exporter": "python",
   "pygments_lexer": "ipython3",
   "version": "3.7.8"
  },
  "orig_nbformat": 4
 },
 "nbformat": 4,
 "nbformat_minor": 2
}
