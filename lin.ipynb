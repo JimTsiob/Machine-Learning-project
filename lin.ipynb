{
 "cells": [
  {
   "cell_type": "code",
   "execution_count": 89,
   "metadata": {},
   "outputs": [],
   "source": [
    "import pandas as pd\n",
    "import matplotlib.pyplot as plt\n",
    "import numpy as np\n",
    "from sklearn import preprocessing"
   ]
  },
  {
   "cell_type": "code",
   "execution_count": 90,
   "metadata": {},
   "outputs": [
    {
     "data": {
      "text/plain": [
       "(1823, 7)"
      ]
     },
     "execution_count": 90,
     "metadata": {},
     "output_type": "execute_result"
    }
   ],
   "source": [
    "\n",
    "data=pd.read_csv('BTC-USD.csv',parse_dates=[\"Date\"],sep=',')\n",
    "\n",
    "#convert dates from string to datetime objects\n",
    "data[\"Date\"]=pd.to_datetime(data[\"Date\"])\n",
    "\n",
    "#keep only the date part of datetime object\n",
    "data[\"Date\"]=data[\"Date\"].dt.date\n",
    "\n",
    "#drop the nan values\n",
    "data.isna().sum()\n",
    "data.dropna(axis=0,how='any',inplace=True)\n",
    "data.isna().sum()\n",
    "\n",
    "\n",
    "#change volume to integer\n",
    "#data[\"Volume\"]=data[\"Volume\"].astype('int64')\n",
    "\n",
    "\n",
    "data.shape\n",
    "\n",
    "\n",
    "\n",
    "\n",
    "\n",
    "\n",
    "\n"
   ]
  },
  {
   "cell_type": "markdown",
   "metadata": {},
   "source": [
    "# Preprocessing"
   ]
  },
  {
   "cell_type": "markdown",
   "metadata": {},
   "source": [
    "### Testing for multicollinearity\n",
    "Running the cell we see the close relationship btw Close and Adj Close"
   ]
  },
  {
   "cell_type": "markdown",
   "metadata": {},
   "source": [
    "Add a dummy variable for time"
   ]
  },
  {
   "cell_type": "code",
   "execution_count": 91,
   "metadata": {},
   "outputs": [
    {
     "data": {
      "text/html": [
       "<div>\n",
       "<style scoped>\n",
       "    .dataframe tbody tr th:only-of-type {\n",
       "        vertical-align: middle;\n",
       "    }\n",
       "\n",
       "    .dataframe tbody tr th {\n",
       "        vertical-align: top;\n",
       "    }\n",
       "\n",
       "    .dataframe thead th {\n",
       "        text-align: right;\n",
       "    }\n",
       "</style>\n",
       "<table border=\"1\" class=\"dataframe\">\n",
       "  <thead>\n",
       "    <tr style=\"text-align: right;\">\n",
       "      <th></th>\n",
       "      <th>Date</th>\n",
       "      <th>Open</th>\n",
       "      <th>High</th>\n",
       "      <th>Low</th>\n",
       "      <th>Close</th>\n",
       "      <th>Adj Close</th>\n",
       "      <th>Volume</th>\n",
       "      <th>Time_dummy</th>\n",
       "    </tr>\n",
       "  </thead>\n",
       "  <tbody>\n",
       "    <tr>\n",
       "      <th>0</th>\n",
       "      <td>2016-12-13</td>\n",
       "      <td>780.646973</td>\n",
       "      <td>788.460022</td>\n",
       "      <td>777.961975</td>\n",
       "      <td>780.556030</td>\n",
       "      <td>780.556030</td>\n",
       "      <td>81645600.0</td>\n",
       "      <td>0.0</td>\n",
       "    </tr>\n",
       "    <tr>\n",
       "      <th>1</th>\n",
       "      <td>2016-12-14</td>\n",
       "      <td>780.005005</td>\n",
       "      <td>782.033997</td>\n",
       "      <td>776.838989</td>\n",
       "      <td>781.481018</td>\n",
       "      <td>781.481018</td>\n",
       "      <td>75979000.0</td>\n",
       "      <td>1.0</td>\n",
       "    </tr>\n",
       "    <tr>\n",
       "      <th>2</th>\n",
       "      <td>2016-12-15</td>\n",
       "      <td>780.070007</td>\n",
       "      <td>781.434998</td>\n",
       "      <td>777.802002</td>\n",
       "      <td>778.088013</td>\n",
       "      <td>778.088013</td>\n",
       "      <td>81580096.0</td>\n",
       "      <td>2.0</td>\n",
       "    </tr>\n",
       "    <tr>\n",
       "      <th>3</th>\n",
       "      <td>2016-12-16</td>\n",
       "      <td>778.963013</td>\n",
       "      <td>785.031982</td>\n",
       "      <td>778.963013</td>\n",
       "      <td>784.906982</td>\n",
       "      <td>784.906982</td>\n",
       "      <td>83608200.0</td>\n",
       "      <td>3.0</td>\n",
       "    </tr>\n",
       "    <tr>\n",
       "      <th>4</th>\n",
       "      <td>2016-12-17</td>\n",
       "      <td>785.166016</td>\n",
       "      <td>792.508972</td>\n",
       "      <td>784.864014</td>\n",
       "      <td>790.828979</td>\n",
       "      <td>790.828979</td>\n",
       "      <td>78989800.0</td>\n",
       "      <td>4.0</td>\n",
       "    </tr>\n",
       "    <tr>\n",
       "      <th>5</th>\n",
       "      <td>2016-12-18</td>\n",
       "      <td>791.007996</td>\n",
       "      <td>794.737000</td>\n",
       "      <td>788.026001</td>\n",
       "      <td>790.530029</td>\n",
       "      <td>790.530029</td>\n",
       "      <td>60524400.0</td>\n",
       "      <td>5.0</td>\n",
       "    </tr>\n",
       "    <tr>\n",
       "      <th>6</th>\n",
       "      <td>2016-12-19</td>\n",
       "      <td>790.692017</td>\n",
       "      <td>793.611023</td>\n",
       "      <td>790.320007</td>\n",
       "      <td>792.713989</td>\n",
       "      <td>792.713989</td>\n",
       "      <td>74886400.0</td>\n",
       "      <td>6.0</td>\n",
       "    </tr>\n",
       "    <tr>\n",
       "      <th>7</th>\n",
       "      <td>2016-12-20</td>\n",
       "      <td>792.247009</td>\n",
       "      <td>801.336975</td>\n",
       "      <td>791.497009</td>\n",
       "      <td>800.875977</td>\n",
       "      <td>800.875977</td>\n",
       "      <td>99629296.0</td>\n",
       "      <td>7.0</td>\n",
       "    </tr>\n",
       "    <tr>\n",
       "      <th>8</th>\n",
       "      <td>2016-12-21</td>\n",
       "      <td>800.643982</td>\n",
       "      <td>834.281006</td>\n",
       "      <td>799.405029</td>\n",
       "      <td>834.281006</td>\n",
       "      <td>834.281006</td>\n",
       "      <td>155576000.0</td>\n",
       "      <td>8.0</td>\n",
       "    </tr>\n",
       "    <tr>\n",
       "      <th>9</th>\n",
       "      <td>2016-12-22</td>\n",
       "      <td>834.179993</td>\n",
       "      <td>875.781982</td>\n",
       "      <td>834.148987</td>\n",
       "      <td>864.539978</td>\n",
       "      <td>864.539978</td>\n",
       "      <td>200027008.0</td>\n",
       "      <td>9.0</td>\n",
       "    </tr>\n",
       "  </tbody>\n",
       "</table>\n",
       "</div>"
      ],
      "text/plain": [
       "         Date        Open        High         Low       Close   Adj Close  \\\n",
       "0  2016-12-13  780.646973  788.460022  777.961975  780.556030  780.556030   \n",
       "1  2016-12-14  780.005005  782.033997  776.838989  781.481018  781.481018   \n",
       "2  2016-12-15  780.070007  781.434998  777.802002  778.088013  778.088013   \n",
       "3  2016-12-16  778.963013  785.031982  778.963013  784.906982  784.906982   \n",
       "4  2016-12-17  785.166016  792.508972  784.864014  790.828979  790.828979   \n",
       "5  2016-12-18  791.007996  794.737000  788.026001  790.530029  790.530029   \n",
       "6  2016-12-19  790.692017  793.611023  790.320007  792.713989  792.713989   \n",
       "7  2016-12-20  792.247009  801.336975  791.497009  800.875977  800.875977   \n",
       "8  2016-12-21  800.643982  834.281006  799.405029  834.281006  834.281006   \n",
       "9  2016-12-22  834.179993  875.781982  834.148987  864.539978  864.539978   \n",
       "\n",
       "        Volume  Time_dummy  \n",
       "0   81645600.0         0.0  \n",
       "1   75979000.0         1.0  \n",
       "2   81580096.0         2.0  \n",
       "3   83608200.0         3.0  \n",
       "4   78989800.0         4.0  \n",
       "5   60524400.0         5.0  \n",
       "6   74886400.0         6.0  \n",
       "7   99629296.0         7.0  \n",
       "8  155576000.0         8.0  \n",
       "9  200027008.0         9.0  "
      ]
     },
     "execution_count": 91,
     "metadata": {},
     "output_type": "execute_result"
    }
   ],
   "source": [
    "data['Time_dummy']=np.arange(len(data.index))\n",
    "data['Time_dummy']=data['Time_dummy'].astype('float64')\n",
    "data.head(10)"
   ]
  },
  {
   "cell_type": "code",
   "execution_count": null,
   "metadata": {},
   "outputs": [],
   "source": []
  },
  {
   "cell_type": "code",
   "execution_count": 92,
   "metadata": {},
   "outputs": [
    {
     "data": {
      "text/html": [
       "<div>\n",
       "<style scoped>\n",
       "    .dataframe tbody tr th:only-of-type {\n",
       "        vertical-align: middle;\n",
       "    }\n",
       "\n",
       "    .dataframe tbody tr th {\n",
       "        vertical-align: top;\n",
       "    }\n",
       "\n",
       "    .dataframe thead th {\n",
       "        text-align: right;\n",
       "    }\n",
       "</style>\n",
       "<table border=\"1\" class=\"dataframe\">\n",
       "  <thead>\n",
       "    <tr style=\"text-align: right;\">\n",
       "      <th></th>\n",
       "      <th>Open</th>\n",
       "      <th>High</th>\n",
       "      <th>Low</th>\n",
       "      <th>Close</th>\n",
       "      <th>Adj Close</th>\n",
       "      <th>Volume</th>\n",
       "      <th>Time_dummy</th>\n",
       "    </tr>\n",
       "  </thead>\n",
       "  <tbody>\n",
       "    <tr>\n",
       "      <th>0</th>\n",
       "      <td>0.000082</td>\n",
       "      <td>0.000103</td>\n",
       "      <td>0.000338</td>\n",
       "      <td>0.000042</td>\n",
       "      <td>0.000042</td>\n",
       "      <td>0.000060</td>\n",
       "      <td>0.000000</td>\n",
       "    </tr>\n",
       "    <tr>\n",
       "      <th>1</th>\n",
       "      <td>0.000072</td>\n",
       "      <td>0.000009</td>\n",
       "      <td>0.000321</td>\n",
       "      <td>0.000056</td>\n",
       "      <td>0.000056</td>\n",
       "      <td>0.000044</td>\n",
       "      <td>0.000549</td>\n",
       "    </tr>\n",
       "    <tr>\n",
       "      <th>2</th>\n",
       "      <td>0.000073</td>\n",
       "      <td>0.000000</td>\n",
       "      <td>0.000336</td>\n",
       "      <td>0.000005</td>\n",
       "      <td>0.000005</td>\n",
       "      <td>0.000060</td>\n",
       "      <td>0.001098</td>\n",
       "    </tr>\n",
       "    <tr>\n",
       "      <th>3</th>\n",
       "      <td>0.000057</td>\n",
       "      <td>0.000053</td>\n",
       "      <td>0.000354</td>\n",
       "      <td>0.000107</td>\n",
       "      <td>0.000107</td>\n",
       "      <td>0.000066</td>\n",
       "      <td>0.001647</td>\n",
       "    </tr>\n",
       "    <tr>\n",
       "      <th>4</th>\n",
       "      <td>0.000150</td>\n",
       "      <td>0.000163</td>\n",
       "      <td>0.000444</td>\n",
       "      <td>0.000196</td>\n",
       "      <td>0.000196</td>\n",
       "      <td>0.000053</td>\n",
       "      <td>0.002195</td>\n",
       "    </tr>\n",
       "    <tr>\n",
       "      <th>...</th>\n",
       "      <td>...</td>\n",
       "      <td>...</td>\n",
       "      <td>...</td>\n",
       "      <td>...</td>\n",
       "      <td>...</td>\n",
       "      <td>...</td>\n",
       "      <td>...</td>\n",
       "    </tr>\n",
       "    <tr>\n",
       "      <th>1822</th>\n",
       "      <td>0.743920</td>\n",
       "      <td>0.735437</td>\n",
       "      <td>0.710121</td>\n",
       "      <td>0.702126</td>\n",
       "      <td>0.702126</td>\n",
       "      <td>0.084190</td>\n",
       "      <td>0.997805</td>\n",
       "    </tr>\n",
       "    <tr>\n",
       "      <th>1823</th>\n",
       "      <td>0.701869</td>\n",
       "      <td>0.723940</td>\n",
       "      <td>0.705021</td>\n",
       "      <td>0.695706</td>\n",
       "      <td>0.695706</td>\n",
       "      <td>0.088073</td>\n",
       "      <td>0.998353</td>\n",
       "    </tr>\n",
       "    <tr>\n",
       "      <th>1824</th>\n",
       "      <td>0.696215</td>\n",
       "      <td>0.715749</td>\n",
       "      <td>0.703782</td>\n",
       "      <td>0.727436</td>\n",
       "      <td>0.727436</td>\n",
       "      <td>0.073282</td>\n",
       "      <td>0.998902</td>\n",
       "    </tr>\n",
       "    <tr>\n",
       "      <th>1825</th>\n",
       "      <td>0.727518</td>\n",
       "      <td>0.734374</td>\n",
       "      <td>0.730958</td>\n",
       "      <td>0.738453</td>\n",
       "      <td>0.738453</td>\n",
       "      <td>0.062349</td>\n",
       "      <td>0.999451</td>\n",
       "    </tr>\n",
       "    <tr>\n",
       "      <th>1826</th>\n",
       "      <td>0.739715</td>\n",
       "      <td>0.726260</td>\n",
       "      <td>0.719734</td>\n",
       "      <td>0.706875</td>\n",
       "      <td>0.706875</td>\n",
       "      <td>0.068970</td>\n",
       "      <td>1.000000</td>\n",
       "    </tr>\n",
       "  </tbody>\n",
       "</table>\n",
       "<p>1823 rows × 7 columns</p>\n",
       "</div>"
      ],
      "text/plain": [
       "          Open      High       Low     Close  Adj Close    Volume  Time_dummy\n",
       "0     0.000082  0.000103  0.000338  0.000042   0.000042  0.000060    0.000000\n",
       "1     0.000072  0.000009  0.000321  0.000056   0.000056  0.000044    0.000549\n",
       "2     0.000073  0.000000  0.000336  0.000005   0.000005  0.000060    0.001098\n",
       "3     0.000057  0.000053  0.000354  0.000107   0.000107  0.000066    0.001647\n",
       "4     0.000150  0.000163  0.000444  0.000196   0.000196  0.000053    0.002195\n",
       "...        ...       ...       ...       ...        ...       ...         ...\n",
       "1822  0.743920  0.735437  0.710121  0.702126   0.702126  0.084190    0.997805\n",
       "1823  0.701869  0.723940  0.705021  0.695706   0.695706  0.088073    0.998353\n",
       "1824  0.696215  0.715749  0.703782  0.727436   0.727436  0.073282    0.998902\n",
       "1825  0.727518  0.734374  0.730958  0.738453   0.738453  0.062349    0.999451\n",
       "1826  0.739715  0.726260  0.719734  0.706875   0.706875  0.068970    1.000000\n",
       "\n",
       "[1823 rows x 7 columns]"
      ]
     },
     "execution_count": 92,
     "metadata": {},
     "output_type": "execute_result"
    }
   ],
   "source": [
    "prepro=preprocessing.MinMaxScaler()\n",
    "data_float=data.loc[:, data.dtypes=='float64']\n",
    "data_scaled=pd.DataFrame(prepro.fit_transform(data_float), index=data_float.index,columns=data_float.columns)\n",
    "data_scaled"
   ]
  },
  {
   "cell_type": "markdown",
   "metadata": {},
   "source": [
    "##### This relationship is also verified by this:"
   ]
  },
  {
   "cell_type": "code",
   "execution_count": 93,
   "metadata": {},
   "outputs": [
    {
     "name": "stdout",
     "output_type": "stream",
     "text": [
      "Open          False\n",
      "High          False\n",
      "Low           False\n",
      "Close         False\n",
      "Adj Close      True\n",
      "Volume        False\n",
      "Time_dummy    False\n",
      "dtype: bool\n",
      "       Open      High       Low     Close    Volume  Time_dummy\n",
      "0  0.000082  0.000103  0.000338  0.000042  0.000060    0.000000\n",
      "1  0.000072  0.000009  0.000321  0.000056  0.000044    0.000549\n",
      "2  0.000073  0.000000  0.000336  0.000005  0.000060    0.001098\n",
      "3  0.000057  0.000053  0.000354  0.000107  0.000066    0.001647\n",
      "4  0.000150  0.000163  0.000444  0.000196  0.000053    0.002195\n",
      "5  0.000237  0.000196  0.000492  0.000191  0.000000    0.002744\n",
      "6  0.000232  0.000179  0.000527  0.000224  0.000041    0.003293\n",
      "7  0.000256  0.000293  0.000545  0.000346  0.000111    0.003842\n",
      "8  0.000381  0.000777  0.000665  0.000846  0.000271    0.004391\n",
      "9  0.000884  0.001387  0.001195  0.001299  0.000398    0.004940\n"
     ]
    }
   ],
   "source": [
    "data_duplicate=data_scaled.T.duplicated()\n",
    "print(data_duplicate)\n",
    "\n",
    "#drop tha adj close column but keep the same dataframe\n",
    "data_scaled.drop([\"Adj Close\"],axis=1,inplace=True)\n",
    "print(data_scaled.head(10))"
   ]
  },
  {
   "cell_type": "markdown",
   "metadata": {},
   "source": [
    "#### Split the data in training and test"
   ]
  },
  {
   "cell_type": "code",
   "execution_count": 127,
   "metadata": {},
   "outputs": [
    {
     "name": "stdout",
     "output_type": "stream",
     "text": [
      "<bound method NDFrame.head of         Volume  Time_dummy\n",
      "0     0.000060    0.000000\n",
      "1     0.000044    0.000549\n",
      "2     0.000060    0.001098\n",
      "3     0.000066    0.001647\n",
      "4     0.000053    0.002195\n",
      "...        ...         ...\n",
      "1822  0.084190    0.997805\n",
      "1823  0.088073    0.998353\n",
      "1824  0.073282    0.998902\n",
      "1825  0.062349    0.999451\n",
      "1826  0.068970    1.000000\n",
      "\n",
      "[1823 rows x 2 columns]>\n"
     ]
    }
   ],
   "source": [
    "from sklearn.model_selection import train_test_split\n",
    "x=data_scaled[['Volume', 'Time_dummy']]\n",
    "y=data_scaled['Close']\n",
    "print(x.head)\n",
    "\n",
    "x_train,x_test,y_train,y_test=train_test_split(x,y,test_size=0.25,random_state=5849)\n",
    "\n",
    "from sklearn.linear_model import LinearRegression\n",
    "# creating an object of LinearRegression class\n",
    "LR = LinearRegression()\n",
    "# fitting the training data\n",
    "LR.fit(x_train,y_train)\n",
    "\n",
    "y_hat=pd.Series(LR.predict(x_test),index=x_test[\"Volume\"].index)"
   ]
  },
  {
   "cell_type": "code",
   "execution_count": 138,
   "metadata": {},
   "outputs": [
    {
     "data": {
      "text/plain": [
       "[<matplotlib.lines.Line2D at 0x23622c3db48>]"
      ]
     },
     "execution_count": 138,
     "metadata": {},
     "output_type": "execute_result"
    },
    {
     "data": {
      "image/png": "[encoded data removed]",
      "text/plain": [
       "<Figure size 720x360 with 1 Axes>"
      ]
     },
     "metadata": {
      "needs_background": "light"
     },
     "output_type": "display_data"
    }
   ],
   "source": [
    "# y_train_plot=y_train.to_numpy()\n",
    "# x_train_plot=y_train.to_numpy()\n",
    "# y_hat_plot=y_hat.to_numpy()\n",
    "\n",
    "# print(y_hat_plot[:5])\n",
    "# print(y_train_plot[:5])\n",
    "y_train.sort_index(inplace=True)\n",
    "y_hat.sort_index(inplace=True)\n",
    "fig1=plt.figure(figsize=(10,5))\n",
    "ax1=fig1.add_axes([0,0,1,1])\n",
    "ax1.plot(y_train)\n",
    "ax1.plot(y_hat)\n",
    "\n",
    "\n",
    "\n"
   ]
  },
  {
   "cell_type": "code",
   "execution_count": 110,
   "metadata": {},
   "outputs": [
    {
     "name": "stdout",
     "output_type": "stream",
     "text": [
      "coefficients are:  [1.08605647 0.48462934]\n",
      " Intercept is : -0.0936049726127744\n",
      "r2 score is:  0.606945461538819\n",
      "mean s error is    0.024441248966826944\n",
      "root_mean_squared error of is== 0.15633697248836229\n"
     ]
    }
   ],
   "source": [
    "# importing r2_score module\n",
    "from sklearn.metrics import r2_score\n",
    "from sklearn.metrics import mean_squared_error\n",
    "\n",
    "# predicting the accuracy score\n",
    "score=r2_score(y_test,y_hat)\n",
    "print(\"coefficients are: \", LR.coef_)\n",
    "print(\" Intercept is :\", LR.intercept_)\n",
    "print('r2 score is: ', score)\n",
    "print('mean s error is   ',mean_squared_error(y_test,y_hat))\n",
    "print('root_mean_squared error of is==',np.sqrt(mean_squared_error(y_test,y_hat)))"
   ]
  }
 ],
 "metadata": {
  "interpreter": {
   "hash": "295f237db84f6e1d57b8b5e6776bbd0890ede2c06c5d1ce3eb1b5f5afe489463"
  },
  "kernelspec": {
   "display_name": "Python 3.7.8 64-bit ('ml-env': venv)",
   "language": "python",
   "name": "python3"
  },
  "language_info": {
   "codemirror_mode": {
    "name": "ipython",
    "version": 3
   },
   "file_extension": ".py",
   "mimetype": "text/x-python",
   "name": "python",
   "nbconvert_exporter": "python",
   "pygments_lexer": "ipython3",
   "version": "3.7.8"
  },
  "orig_nbformat": 4
 },
 "nbformat": 4,
 "nbformat_minor": 2
}
