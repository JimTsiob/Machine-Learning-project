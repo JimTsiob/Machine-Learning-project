{
 "cells": [
  {
   "cell_type": "code",
   "execution_count": 339,
   "metadata": {},
   "outputs": [],
   "source": [
    "import pandas as pd\n",
    "import matplotlib.pyplot as plt\n",
    "import numpy as np\n",
    "from sklearn import preprocessing"
   ]
  },
  {
   "cell_type": "code",
   "execution_count": 340,
   "metadata": {},
   "outputs": [
    {
     "data": {
      "text/plain": [
       "(1823, 7)"
      ]
     },
     "execution_count": 340,
     "metadata": {},
     "output_type": "execute_result"
    }
   ],
   "source": [
    "\n",
    "data=pd.read_csv('BTC-USD.csv',parse_dates=[\"Date\"],sep=',')\n",
    "\n",
    "#convert dates from string to datetime objects\n",
    "data[\"Date\"]=pd.to_datetime(data[\"Date\"])\n",
    "\n",
    "#keep only the date part of datetime object\n",
    "data[\"Date\"]=data[\"Date\"].dt.date\n",
    "\n",
    "#drop the nan values\n",
    "data.isna().sum()\n",
    "data.dropna(axis=0,how='any',inplace=True)\n",
    "data.isna().sum()\n",
    "\n",
    "\n",
    "#change volume to integer\n",
    "#data[\"Volume\"]=data[\"Volume\"].astype('int64')\n",
    "\n",
    "\n",
    "data.shape\n",
    "\n",
    "\n",
    "\n",
    "\n",
    "\n",
    "\n",
    "\n"
   ]
  },
  {
   "cell_type": "markdown",
   "metadata": {},
   "source": [
    "# Preprocessing"
   ]
  },
  {
   "cell_type": "markdown",
   "metadata": {},
   "source": [
    "### Testing for multicollinearity\n",
    "Running the cell we see the close relationship btw Close and Adj Close"
   ]
  },
  {
   "cell_type": "markdown",
   "metadata": {},
   "source": [
    "Add a dummy variable for time"
   ]
  },
  {
   "cell_type": "code",
   "execution_count": 341,
   "metadata": {},
   "outputs": [
    {
     "data": {
      "text/html": [
       "<div>\n",
       "<style scoped>\n",
       "    .dataframe tbody tr th:only-of-type {\n",
       "        vertical-align: middle;\n",
       "    }\n",
       "\n",
       "    .dataframe tbody tr th {\n",
       "        vertical-align: top;\n",
       "    }\n",
       "\n",
       "    .dataframe thead th {\n",
       "        text-align: right;\n",
       "    }\n",
       "</style>\n",
       "<table border=\"1\" class=\"dataframe\">\n",
       "  <thead>\n",
       "    <tr style=\"text-align: right;\">\n",
       "      <th></th>\n",
       "      <th>Date</th>\n",
       "      <th>Open</th>\n",
       "      <th>High</th>\n",
       "      <th>Low</th>\n",
       "      <th>Close</th>\n",
       "      <th>Adj Close</th>\n",
       "      <th>Volume</th>\n",
       "      <th>Time_dummy</th>\n",
       "    </tr>\n",
       "  </thead>\n",
       "  <tbody>\n",
       "    <tr>\n",
       "      <th>0</th>\n",
       "      <td>2016-12-13</td>\n",
       "      <td>780.646973</td>\n",
       "      <td>788.460022</td>\n",
       "      <td>777.961975</td>\n",
       "      <td>780.556030</td>\n",
       "      <td>780.556030</td>\n",
       "      <td>81645600.0</td>\n",
       "      <td>0.0</td>\n",
       "    </tr>\n",
       "    <tr>\n",
       "      <th>1</th>\n",
       "      <td>2016-12-14</td>\n",
       "      <td>780.005005</td>\n",
       "      <td>782.033997</td>\n",
       "      <td>776.838989</td>\n",
       "      <td>781.481018</td>\n",
       "      <td>781.481018</td>\n",
       "      <td>75979000.0</td>\n",
       "      <td>1.0</td>\n",
       "    </tr>\n",
       "    <tr>\n",
       "      <th>2</th>\n",
       "      <td>2016-12-15</td>\n",
       "      <td>780.070007</td>\n",
       "      <td>781.434998</td>\n",
       "      <td>777.802002</td>\n",
       "      <td>778.088013</td>\n",
       "      <td>778.088013</td>\n",
       "      <td>81580096.0</td>\n",
       "      <td>2.0</td>\n",
       "    </tr>\n",
       "    <tr>\n",
       "      <th>3</th>\n",
       "      <td>2016-12-16</td>\n",
       "      <td>778.963013</td>\n",
       "      <td>785.031982</td>\n",
       "      <td>778.963013</td>\n",
       "      <td>784.906982</td>\n",
       "      <td>784.906982</td>\n",
       "      <td>83608200.0</td>\n",
       "      <td>3.0</td>\n",
       "    </tr>\n",
       "    <tr>\n",
       "      <th>4</th>\n",
       "      <td>2016-12-17</td>\n",
       "      <td>785.166016</td>\n",
       "      <td>792.508972</td>\n",
       "      <td>784.864014</td>\n",
       "      <td>790.828979</td>\n",
       "      <td>790.828979</td>\n",
       "      <td>78989800.0</td>\n",
       "      <td>4.0</td>\n",
       "    </tr>\n",
       "    <tr>\n",
       "      <th>5</th>\n",
       "      <td>2016-12-18</td>\n",
       "      <td>791.007996</td>\n",
       "      <td>794.737000</td>\n",
       "      <td>788.026001</td>\n",
       "      <td>790.530029</td>\n",
       "      <td>790.530029</td>\n",
       "      <td>60524400.0</td>\n",
       "      <td>5.0</td>\n",
       "    </tr>\n",
       "    <tr>\n",
       "      <th>6</th>\n",
       "      <td>2016-12-19</td>\n",
       "      <td>790.692017</td>\n",
       "      <td>793.611023</td>\n",
       "      <td>790.320007</td>\n",
       "      <td>792.713989</td>\n",
       "      <td>792.713989</td>\n",
       "      <td>74886400.0</td>\n",
       "      <td>6.0</td>\n",
       "    </tr>\n",
       "    <tr>\n",
       "      <th>7</th>\n",
       "      <td>2016-12-20</td>\n",
       "      <td>792.247009</td>\n",
       "      <td>801.336975</td>\n",
       "      <td>791.497009</td>\n",
       "      <td>800.875977</td>\n",
       "      <td>800.875977</td>\n",
       "      <td>99629296.0</td>\n",
       "      <td>7.0</td>\n",
       "    </tr>\n",
       "    <tr>\n",
       "      <th>8</th>\n",
       "      <td>2016-12-21</td>\n",
       "      <td>800.643982</td>\n",
       "      <td>834.281006</td>\n",
       "      <td>799.405029</td>\n",
       "      <td>834.281006</td>\n",
       "      <td>834.281006</td>\n",
       "      <td>155576000.0</td>\n",
       "      <td>8.0</td>\n",
       "    </tr>\n",
       "    <tr>\n",
       "      <th>9</th>\n",
       "      <td>2016-12-22</td>\n",
       "      <td>834.179993</td>\n",
       "      <td>875.781982</td>\n",
       "      <td>834.148987</td>\n",
       "      <td>864.539978</td>\n",
       "      <td>864.539978</td>\n",
       "      <td>200027008.0</td>\n",
       "      <td>9.0</td>\n",
       "    </tr>\n",
       "  </tbody>\n",
       "</table>\n",
       "</div>"
      ],
      "text/plain": [
       "         Date        Open        High         Low       Close   Adj Close  \\\n",
       "0  2016-12-13  780.646973  788.460022  777.961975  780.556030  780.556030   \n",
       "1  2016-12-14  780.005005  782.033997  776.838989  781.481018  781.481018   \n",
       "2  2016-12-15  780.070007  781.434998  777.802002  778.088013  778.088013   \n",
       "3  2016-12-16  778.963013  785.031982  778.963013  784.906982  784.906982   \n",
       "4  2016-12-17  785.166016  792.508972  784.864014  790.828979  790.828979   \n",
       "5  2016-12-18  791.007996  794.737000  788.026001  790.530029  790.530029   \n",
       "6  2016-12-19  790.692017  793.611023  790.320007  792.713989  792.713989   \n",
       "7  2016-12-20  792.247009  801.336975  791.497009  800.875977  800.875977   \n",
       "8  2016-12-21  800.643982  834.281006  799.405029  834.281006  834.281006   \n",
       "9  2016-12-22  834.179993  875.781982  834.148987  864.539978  864.539978   \n",
       "\n",
       "        Volume  Time_dummy  \n",
       "0   81645600.0         0.0  \n",
       "1   75979000.0         1.0  \n",
       "2   81580096.0         2.0  \n",
       "3   83608200.0         3.0  \n",
       "4   78989800.0         4.0  \n",
       "5   60524400.0         5.0  \n",
       "6   74886400.0         6.0  \n",
       "7   99629296.0         7.0  \n",
       "8  155576000.0         8.0  \n",
       "9  200027008.0         9.0  "
      ]
     },
     "execution_count": 341,
     "metadata": {},
     "output_type": "execute_result"
    }
   ],
   "source": [
    "data['Time_dummy']=np.arange(len(data.index))\n",
    "data['Time_dummy']=data['Time_dummy'].astype('float64')\n",
    "data.head(10)"
   ]
  },
  {
   "cell_type": "code",
   "execution_count": 342,
   "metadata": {},
   "outputs": [
    {
     "data": {
      "text/html": [
       "<div>\n",
       "<style scoped>\n",
       "    .dataframe tbody tr th:only-of-type {\n",
       "        vertical-align: middle;\n",
       "    }\n",
       "\n",
       "    .dataframe tbody tr th {\n",
       "        vertical-align: top;\n",
       "    }\n",
       "\n",
       "    .dataframe thead th {\n",
       "        text-align: right;\n",
       "    }\n",
       "</style>\n",
       "<table border=\"1\" class=\"dataframe\">\n",
       "  <thead>\n",
       "    <tr style=\"text-align: right;\">\n",
       "      <th></th>\n",
       "      <th>Open</th>\n",
       "      <th>High</th>\n",
       "      <th>Low</th>\n",
       "      <th>Close</th>\n",
       "      <th>Adj Close</th>\n",
       "      <th>Volume</th>\n",
       "      <th>Time_dummy</th>\n",
       "    </tr>\n",
       "  </thead>\n",
       "  <tbody>\n",
       "    <tr>\n",
       "      <th>0</th>\n",
       "      <td>0.000082</td>\n",
       "      <td>0.000103</td>\n",
       "      <td>0.000338</td>\n",
       "      <td>0.000042</td>\n",
       "      <td>0.000042</td>\n",
       "      <td>0.000060</td>\n",
       "      <td>0.000000</td>\n",
       "    </tr>\n",
       "    <tr>\n",
       "      <th>1</th>\n",
       "      <td>0.000072</td>\n",
       "      <td>0.000009</td>\n",
       "      <td>0.000321</td>\n",
       "      <td>0.000056</td>\n",
       "      <td>0.000056</td>\n",
       "      <td>0.000044</td>\n",
       "      <td>0.000549</td>\n",
       "    </tr>\n",
       "    <tr>\n",
       "      <th>2</th>\n",
       "      <td>0.000073</td>\n",
       "      <td>0.000000</td>\n",
       "      <td>0.000336</td>\n",
       "      <td>0.000005</td>\n",
       "      <td>0.000005</td>\n",
       "      <td>0.000060</td>\n",
       "      <td>0.001098</td>\n",
       "    </tr>\n",
       "    <tr>\n",
       "      <th>3</th>\n",
       "      <td>0.000057</td>\n",
       "      <td>0.000053</td>\n",
       "      <td>0.000354</td>\n",
       "      <td>0.000107</td>\n",
       "      <td>0.000107</td>\n",
       "      <td>0.000066</td>\n",
       "      <td>0.001647</td>\n",
       "    </tr>\n",
       "    <tr>\n",
       "      <th>4</th>\n",
       "      <td>0.000150</td>\n",
       "      <td>0.000163</td>\n",
       "      <td>0.000444</td>\n",
       "      <td>0.000196</td>\n",
       "      <td>0.000196</td>\n",
       "      <td>0.000053</td>\n",
       "      <td>0.002195</td>\n",
       "    </tr>\n",
       "    <tr>\n",
       "      <th>...</th>\n",
       "      <td>...</td>\n",
       "      <td>...</td>\n",
       "      <td>...</td>\n",
       "      <td>...</td>\n",
       "      <td>...</td>\n",
       "      <td>...</td>\n",
       "      <td>...</td>\n",
       "    </tr>\n",
       "    <tr>\n",
       "      <th>1822</th>\n",
       "      <td>0.743920</td>\n",
       "      <td>0.735437</td>\n",
       "      <td>0.710121</td>\n",
       "      <td>0.702126</td>\n",
       "      <td>0.702126</td>\n",
       "      <td>0.084190</td>\n",
       "      <td>0.997805</td>\n",
       "    </tr>\n",
       "    <tr>\n",
       "      <th>1823</th>\n",
       "      <td>0.701869</td>\n",
       "      <td>0.723940</td>\n",
       "      <td>0.705021</td>\n",
       "      <td>0.695706</td>\n",
       "      <td>0.695706</td>\n",
       "      <td>0.088073</td>\n",
       "      <td>0.998353</td>\n",
       "    </tr>\n",
       "    <tr>\n",
       "      <th>1824</th>\n",
       "      <td>0.696215</td>\n",
       "      <td>0.715749</td>\n",
       "      <td>0.703782</td>\n",
       "      <td>0.727436</td>\n",
       "      <td>0.727436</td>\n",
       "      <td>0.073282</td>\n",
       "      <td>0.998902</td>\n",
       "    </tr>\n",
       "    <tr>\n",
       "      <th>1825</th>\n",
       "      <td>0.727518</td>\n",
       "      <td>0.734374</td>\n",
       "      <td>0.730958</td>\n",
       "      <td>0.738453</td>\n",
       "      <td>0.738453</td>\n",
       "      <td>0.062349</td>\n",
       "      <td>0.999451</td>\n",
       "    </tr>\n",
       "    <tr>\n",
       "      <th>1826</th>\n",
       "      <td>0.739715</td>\n",
       "      <td>0.726260</td>\n",
       "      <td>0.719734</td>\n",
       "      <td>0.706875</td>\n",
       "      <td>0.706875</td>\n",
       "      <td>0.068970</td>\n",
       "      <td>1.000000</td>\n",
       "    </tr>\n",
       "  </tbody>\n",
       "</table>\n",
       "<p>1823 rows × 7 columns</p>\n",
       "</div>"
      ],
      "text/plain": [
       "          Open      High       Low     Close  Adj Close    Volume  Time_dummy\n",
       "0     0.000082  0.000103  0.000338  0.000042   0.000042  0.000060    0.000000\n",
       "1     0.000072  0.000009  0.000321  0.000056   0.000056  0.000044    0.000549\n",
       "2     0.000073  0.000000  0.000336  0.000005   0.000005  0.000060    0.001098\n",
       "3     0.000057  0.000053  0.000354  0.000107   0.000107  0.000066    0.001647\n",
       "4     0.000150  0.000163  0.000444  0.000196   0.000196  0.000053    0.002195\n",
       "...        ...       ...       ...       ...        ...       ...         ...\n",
       "1822  0.743920  0.735437  0.710121  0.702126   0.702126  0.084190    0.997805\n",
       "1823  0.701869  0.723940  0.705021  0.695706   0.695706  0.088073    0.998353\n",
       "1824  0.696215  0.715749  0.703782  0.727436   0.727436  0.073282    0.998902\n",
       "1825  0.727518  0.734374  0.730958  0.738453   0.738453  0.062349    0.999451\n",
       "1826  0.739715  0.726260  0.719734  0.706875   0.706875  0.068970    1.000000\n",
       "\n",
       "[1823 rows x 7 columns]"
      ]
     },
     "execution_count": 342,
     "metadata": {},
     "output_type": "execute_result"
    }
   ],
   "source": [
    "prepro=preprocessing.MinMaxScaler()\n",
    "data_float=data.loc[:, data.dtypes=='float64']\n",
    "data_scaled=pd.DataFrame(prepro.fit_transform(data_float), index=data_float.index,columns=data_float.columns)\n",
    "data_scaled"
   ]
  },
  {
   "cell_type": "markdown",
   "metadata": {},
   "source": [
    "##### This relationship is also verified by this:"
   ]
  },
  {
   "cell_type": "code",
   "execution_count": 343,
   "metadata": {},
   "outputs": [
    {
     "name": "stdout",
     "output_type": "stream",
     "text": [
      "Open          False\n",
      "High          False\n",
      "Low           False\n",
      "Close         False\n",
      "Adj Close      True\n",
      "Volume        False\n",
      "Time_dummy    False\n",
      "dtype: bool\n",
      "       Open      High       Low     Close    Volume  Time_dummy\n",
      "0  0.000082  0.000103  0.000338  0.000042  0.000060    0.000000\n",
      "1  0.000072  0.000009  0.000321  0.000056  0.000044    0.000549\n",
      "2  0.000073  0.000000  0.000336  0.000005  0.000060    0.001098\n",
      "3  0.000057  0.000053  0.000354  0.000107  0.000066    0.001647\n",
      "4  0.000150  0.000163  0.000444  0.000196  0.000053    0.002195\n",
      "5  0.000237  0.000196  0.000492  0.000191  0.000000    0.002744\n",
      "6  0.000232  0.000179  0.000527  0.000224  0.000041    0.003293\n",
      "7  0.000256  0.000293  0.000545  0.000346  0.000111    0.003842\n",
      "8  0.000381  0.000777  0.000665  0.000846  0.000271    0.004391\n",
      "9  0.000884  0.001387  0.001195  0.001299  0.000398    0.004940\n"
     ]
    }
   ],
   "source": [
    "data_duplicate=data_scaled.T.duplicated()\n",
    "print(data_duplicate)\n",
    "\n",
    "#drop tha adj close column but keep the same dataframe\n",
    "data_scaled.drop([\"Adj Close\"],axis=1,inplace=True)\n",
    "print(data_scaled.head(10))"
   ]
  },
  {
   "cell_type": "markdown",
   "metadata": {},
   "source": [
    "#### Split the data in training and test"
   ]
  },
  {
   "cell_type": "code",
   "execution_count": 344,
   "metadata": {},
   "outputs": [
    {
     "name": "stdout",
     "output_type": "stream",
     "text": [
      "<bound method NDFrame.head of         Volume  Time_dummy\n",
      "0     0.000060    0.000000\n",
      "1     0.000044    0.000549\n",
      "2     0.000060    0.001098\n",
      "3     0.000066    0.001647\n",
      "4     0.000053    0.002195\n",
      "...        ...         ...\n",
      "1822  0.084190    0.997805\n",
      "1823  0.088073    0.998353\n",
      "1824  0.073282    0.998902\n",
      "1825  0.062349    0.999451\n",
      "1826  0.068970    1.000000\n",
      "\n",
      "[1823 rows x 2 columns]>\n",
      "coefficients are:  [1.08605647 0.48462934]\n",
      " Intercept is : -0.0936049726127744\n"
     ]
    }
   ],
   "source": [
    "from sklearn.model_selection import train_test_split\n",
    "x=data_scaled[['Volume', 'Time_dummy']]\n",
    "y=data_scaled['Close']\n",
    "print(x.head)\n",
    "\n",
    "x_train,x_test,y_train,y_test=train_test_split(x,y,test_size=0.25,random_state=5849)\n",
    "\n",
    "from sklearn.linear_model import LinearRegression\n",
    "# creating an object of LinearRegression class\n",
    "LR = LinearRegression()\n",
    "# fitting the training data-75% of the dataset\n",
    "LR.fit(x_train,y_train)\n",
    "print(\"coefficients are: \", LR.coef_)\n",
    "print(\" Intercept is :\", LR.intercept_)\n",
    "\n",
    "#predicting using the x_test\n",
    "y_hat=pd.Series(LR.predict(x_test),index=x_test[\"Volume\"].index)"
   ]
  },
  {
   "cell_type": "code",
   "execution_count": 345,
   "metadata": {},
   "outputs": [
    {
     "name": "stdout",
     "output_type": "stream",
     "text": [
      "r2 score is:  0.606945461538819\n",
      "mean s error is    0.024441248966826944\n",
      "root mean squared error is== 0.15633697248836229\n"
     ]
    }
   ],
   "source": [
    "# importing r2_score module\n",
    "from sklearn.metrics import r2_score\n",
    "from sklearn.metrics import mean_squared_error\n",
    "\n",
    "# predicting the accuracy score\n",
    "score=r2_score(y_test,y_hat)\n",
    "print('r2 score is: ', score)\n",
    "print('mean s error is   ',mean_squared_error(y_test,y_hat))\n",
    "print('root mean squared error is==',np.sqrt(mean_squared_error(y_test,y_hat)))"
   ]
  },
  {
   "cell_type": "code",
   "execution_count": 346,
   "metadata": {},
   "outputs": [
    {
     "data": {
      "text/plain": [
       "(1367,)"
      ]
     },
     "execution_count": 346,
     "metadata": {},
     "output_type": "execute_result"
    }
   ],
   "source": [
    "y_train.shape"
   ]
  },
  {
   "cell_type": "code",
   "execution_count": 347,
   "metadata": {},
   "outputs": [
    {
     "data": {
      "text/plain": [
       "Text(0.5, 1.0, 'Linear Regression on Volume and Time')"
      ]
     },
     "execution_count": 347,
     "metadata": {},
     "output_type": "execute_result"
    },
    {
     "data": {
      "image/png": "[encoded data removed]",
      "text/plain": [
       "<Figure size 720x360 with 1 Axes>"
      ]
     },
     "metadata": {
      "needs_background": "light"
     },
     "output_type": "display_data"
    }
   ],
   "source": [
    "# y_train_plot=y_train.to_numpy()\n",
    "# x_train_plot=y_train.to_numpy()\n",
    "# y_hat_plot=y_hat.to_numpy()\n",
    "\n",
    "# print(y_hat_plot[:5])\n",
    "# print(y_train_plot[:5])\n",
    "\n",
    "y_train.sort_index(inplace=True)\n",
    "y_hat.sort_index(inplace=True)\n",
    "fig1=plt.figure(figsize=(10,5))\n",
    "ax1=fig1.add_axes([0,0,1,1])\n",
    "ax1.plot(y_train, label=\"Original data\")\n",
    "ax1.plot(y_hat, label=\"Prediction\")\n",
    "ax1.legend()\n",
    "ax1.set_title(\"Linear Regression on Volume and Time\")\n",
    "\n",
    "#can i get a perfectly straight line because of regression???\n",
    "\n",
    "\n",
    "\n"
   ]
  },
  {
   "cell_type": "markdown",
   "metadata": {},
   "source": [
    "# LAGS"
   ]
  },
  {
   "cell_type": "code",
   "execution_count": 348,
   "metadata": {},
   "outputs": [
    {
     "data": {
      "text/plain": [
       "<AxesSubplot:xlabel='y(t)', ylabel='y(t + 1)'>"
      ]
     },
     "execution_count": 348,
     "metadata": {},
     "output_type": "execute_result"
    },
    {
     "data": {
      "image/png": "[encoded data removed]",
      "text/plain": [
       "<Figure size 432x288 with 1 Axes>"
      ]
     },
     "metadata": {
      "needs_background": "light"
     },
     "output_type": "display_data"
    }
   ],
   "source": [
    "from pandas.plotting import lag_plot,autocorrelation_plot\n",
    "lag_plot(data_scaled)\n"
   ]
  },
  {
   "cell_type": "code",
   "execution_count": 349,
   "metadata": {},
   "outputs": [
    {
     "data": {
      "text/plain": [
       "<AxesSubplot:xlabel='Lag', ylabel='Autocorrelation'>"
      ]
     },
     "execution_count": 349,
     "metadata": {},
     "output_type": "execute_result"
    },
    {
     "data": {
      "image/png": "[encoded data removed]",
      "text/plain": [
       "<Figure size 432x288 with 1 Axes>"
      ]
     },
     "metadata": {
      "needs_background": "light"
     },
     "output_type": "display_data"
    }
   ],
   "source": [
    "pd.plotting.autocorrelation_plot(data_scaled[\"Close\"])"
   ]
  },
  {
   "cell_type": "code",
   "execution_count": 360,
   "metadata": {},
   "outputs": [
    {
     "name": "stderr",
     "output_type": "stream",
     "text": [
      "c:\\Users\\pchrk\\OneDrive\\Desktop\\cs\\3rd\\ml\\ml-env\\lib\\site-packages\\statsmodels\\graphics\\tsaplots.py:353: FutureWarning: The default method 'yw' can produce PACF values outside of the [-1,1] interval. After 0.13, the default will change tounadjusted Yule-Walker ('ywm'). You can use this method now by setting method='ywm'.\n",
      "  FutureWarning,\n"
     ]
    },
    {
     "data": {
      "image/png": "[encoded data removed]",
      "text/plain": [
       "<Figure size 432x288 with 1 Axes>"
      ]
     },
     "execution_count": 360,
     "metadata": {},
     "output_type": "execute_result"
    },
    {
     "data": {
      "image/png": "[encoded data removed]",
      "text/plain": [
       "<Figure size 432x288 with 1 Axes>"
      ]
     },
     "metadata": {
      "needs_background": "light"
     },
     "output_type": "display_data"
    },
    {
     "data": {
      "image/png": "[encoded data removed]",
      "text/plain": [
       "<Figure size 432x288 with 1 Axes>"
      ]
     },
     "metadata": {
      "needs_background": "light"
     },
     "output_type": "display_data"
    }
   ],
   "source": [
    "from statsmodels.graphics.tsaplots import plot_acf,plot_pacf\n",
    "plot_acf(data_scaled[\"Close\"], lags=50)\n",
    "plot_pacf(data_scaled[\"Close\"],lags=50)"
   ]
  },
  {
   "cell_type": "markdown",
   "metadata": {},
   "source": [
    "##### Από τα παραπάνω διαγράμματα διαπιστώνουμε την ύπαρξη αυτοσυσχέτισης στις τιμές της μεταβλητής Close. Ειδικότερα, η σημαντικότητα του lag μικραίνει όσο απομακρυνόμαστε χρονικά από τη δεδομένη χρονική στιγμή. Το υπόδειγμα AR που θα χρησιμοποιήσουμε ουσιαστικά αποτελεί μια γραμμική παλινδρόμηση χρησιμοποιώντας σαν ερμηνευτικές μεταβλητές προηγούμενες παρατηρήσεις της ελέυθερης μεταβλητής (Close price).\n",
    "##### Από το διάγραμμα μερικής αυτοσυσχέτισης PACF διαπιστώνουμε πως το lag1 είναι το πιο σημαντικό γύρω από το οποίο θα χτίσουμε το υποδειγμά μας."
   ]
  },
  {
   "cell_type": "code",
   "execution_count": 367,
   "metadata": {},
   "outputs": [],
   "source": [
    "from statsmodels.tsa.api import acf, graphics, pacf\n",
    "from statsmodels.tsa.ar_model import AutoReg, ar_select_order\n"
   ]
  },
  {
   "cell_type": "markdown",
   "metadata": {},
   "source": [
    "Κάνουμε χρήση της συνάρτησης ar_select_order και αφήνουμε το πακέτο να επιλέξει τον βέλτιστο αριθμό lag που είναι μονο η προηγούμενη παρατήρηση."
   ]
  },
  {
   "cell_type": "markdown",
   "metadata": {},
   "source": [
    "Θα χρησιμοποιήσουμε το μοντέλο AR(1) για να δοκιμάσουμε πόσο καλές προβλέψεις κάνει."
   ]
  },
  {
   "cell_type": "code",
   "execution_count": 368,
   "metadata": {},
   "outputs": [
    {
     "name": "stdout",
     "output_type": "stream",
     "text": [
      "                            AutoReg Model Results                             \n",
      "==============================================================================\n",
      "Dep. Variable:                  Close   No. Observations:                 1723\n",
      "Model:                     AutoReg(3)   Log Likelihood                5154.387\n",
      "Method:               Conditional MLE   S.D. of innovations              0.012\n",
      "Date:                Sun, 02 Jan 2022   AIC                         -10298.775\n",
      "Time:                        12:31:39   BIC                         -10271.524\n",
      "Sample:                             3   HQIC                        -10288.693\n",
      "                                 1723                                         \n",
      "==============================================================================\n",
      "                 coef    std err          z      P>|z|      [0.025      0.975]\n",
      "------------------------------------------------------------------------------\n",
      "const          0.0004      0.000      1.041      0.298      -0.000       0.001\n",
      "Close.L1       0.9419      0.024     39.162      0.000       0.895       0.989\n",
      "Close.L2       0.1292      0.033      3.924      0.000       0.065       0.194\n",
      "Close.L3      -0.0710      0.024     -2.947      0.003      -0.118      -0.024\n",
      "                                    Roots                                    \n",
      "=============================================================================\n",
      "                  Real          Imaginary           Modulus         Frequency\n",
      "-----------------------------------------------------------------------------\n",
      "AR.1            0.9999           +0.0000j            0.9999            0.0000\n",
      "AR.2           -3.3650           +0.0000j            3.3650            0.5000\n",
      "AR.3            4.1850           +0.0000j            4.1850            0.0000\n",
      "-----------------------------------------------------------------------------\n",
      "predicted=0.737462, expected=0.763233\n",
      "predicted=0.737799, expected=0.776411\n",
      "predicted=0.738371, expected=0.689235\n",
      "predicted=0.738861, expected=0.678459\n",
      "predicted=0.739372, expected=0.682951\n",
      "predicted=0.739876, expected=0.660380\n",
      "predicted=0.740382, expected=0.665134\n",
      "predicted=0.740887, expected=0.678038\n",
      "predicted=0.741393, expected=0.661565\n",
      "predicted=0.741899, expected=0.693448\n",
      "predicted=0.742404, expected=0.709676\n",
      "predicted=0.742910, expected=0.703792\n",
      "predicted=0.743416, expected=0.696068\n",
      "predicted=0.743922, expected=0.711203\n",
      "predicted=0.744428, expected=0.695959\n",
      "predicted=0.744935, expected=0.629834\n",
      "predicted=0.745441, expected=0.597641\n",
      "predicted=0.745947, expected=0.640775\n",
      "predicted=0.746453, expected=0.660547\n",
      "predicted=0.746960, expected=0.629774\n",
      "predicted=0.747466, expected=0.627930\n",
      "predicted=0.747973, expected=0.635295\n",
      "predicted=0.748480, expected=0.620730\n",
      "predicted=0.748986, expected=0.602745\n",
      "predicted=0.749493, expected=0.610678\n",
      "predicted=0.750000, expected=0.644015\n",
      "predicted=0.750507, expected=0.708786\n",
      "predicted=0.751014, expected=0.702716\n",
      "predicted=0.751521, expected=0.710029\n",
      "predicted=0.752028, expected=0.723698\n",
      "predicted=0.752535, expected=0.759661\n",
      "predicted=0.753043, expected=0.817255\n",
      "predicted=0.753550, expected=0.793966\n",
      "predicted=0.754057, expected=0.796389\n",
      "predicted=0.754565, expected=0.811367\n",
      "predicted=0.755072, expected=0.808423\n",
      "predicted=0.755580, expected=0.849047\n",
      "predicted=0.756088, expected=0.827430\n",
      "predicted=0.756596, expected=0.847794\n",
      "predicted=0.757103, expected=0.846602\n",
      "predicted=0.757611, expected=0.910571\n",
      "predicted=0.758119, expected=0.900064\n",
      "predicted=0.758627, expected=0.909967\n",
      "predicted=0.759135, expected=0.917041\n",
      "predicted=0.759644, expected=0.950518\n",
      "predicted=0.760152, expected=0.976433\n",
      "predicted=0.760660, expected=0.919797\n",
      "predicted=0.761169, expected=0.897071\n",
      "predicted=0.761677, expected=0.907572\n",
      "predicted=0.762186, expected=0.900643\n",
      "predicted=0.762694, expected=0.932219\n",
      "predicted=0.763203, expected=0.892152\n",
      "predicted=0.763712, expected=0.863983\n",
      "predicted=0.764221, expected=0.896021\n",
      "predicted=0.764729, expected=0.920064\n",
      "predicted=0.765238, expected=0.914986\n",
      "predicted=0.765747, expected=0.906454\n",
      "predicted=0.766256, expected=0.901744\n",
      "predicted=0.766766, expected=0.935013\n",
      "predicted=0.767275, expected=0.931175\n",
      "predicted=0.767784, expected=0.908449\n",
      "predicted=0.768294, expected=0.903560\n",
      "predicted=0.768803, expected=0.909576\n",
      "predicted=0.769313, expected=0.936519\n",
      "predicted=0.769822, expected=1.000000\n",
      "predicted=0.770332, expected=0.991091\n",
      "predicted=0.770842, expected=0.961497\n",
      "predicted=0.771351, expected=0.960819\n",
      "predicted=0.771861, expected=0.948930\n",
      "predicted=0.772371, expected=0.953626\n",
      "predicted=0.772881, expected=0.968558\n",
      "predicted=0.773391, expected=0.939976\n",
      "predicted=0.773901, expected=0.889120\n",
      "predicted=0.774412, expected=0.892216\n",
      "predicted=0.774922, expected=0.840922\n",
      "predicted=0.775432, expected=0.858551\n",
      "predicted=0.775943, expected=0.882172\n",
      "predicted=0.776453, expected=0.867698\n",
      "predicted=0.776964, expected=0.831147\n",
      "predicted=0.777474, expected=0.850309\n",
      "predicted=0.777985, expected=0.831014\n",
      "predicted=0.778496, expected=0.845901\n",
      "predicted=0.779007, expected=0.790429\n",
      "predicted=0.779518, expected=0.809074\n",
      "predicted=0.780029, expected=0.845508\n",
      "predicted=0.780540, expected=0.853864\n",
      "predicted=0.781051, expected=0.841869\n",
      "predicted=0.781562, expected=0.845229\n",
      "predicted=0.782073, expected=0.833970\n",
      "predicted=0.782585, expected=0.790855\n",
      "predicted=0.783096, expected=0.725013\n",
      "predicted=0.783608, expected=0.727531\n",
      "predicted=0.784119, expected=0.745704\n",
      "predicted=0.784631, expected=0.747463\n",
      "predicted=0.785142, expected=0.744539\n",
      "predicted=0.785654, expected=0.702126\n",
      "predicted=0.786166, expected=0.695706\n",
      "predicted=0.786678, expected=0.727436\n",
      "predicted=0.787190, expected=0.738453\n",
      "predicted=0.787702, expected=0.706875\n",
      "mean squared error is: 0.013 and root is 0.112\n"
     ]
    },
    {
     "name": "stderr",
     "output_type": "stream",
     "text": [
      "c:\\Users\\pchrk\\OneDrive\\Desktop\\cs\\3rd\\ml\\ml-env\\lib\\site-packages\\statsmodels\\tsa\\base\\tsa_model.py:591: ValueWarning: An unsupported index was provided and will be ignored when e.g. forecasting.\n",
      "  ' ignored when e.g. forecasting.', ValueWarning)\n",
      "c:\\Users\\pchrk\\OneDrive\\Desktop\\cs\\3rd\\ml\\ml-env\\lib\\site-packages\\statsmodels\\tsa\\base\\tsa_model.py:393: ValueWarning: No supported index is available. Prediction results will be given with an integer index beginning at `start`.\n",
      "  ValueWarning)\n",
      "c:\\Users\\pchrk\\OneDrive\\Desktop\\cs\\3rd\\ml\\ml-env\\lib\\site-packages\\statsmodels\\tsa\\deterministic.py:157: UserWarning: Only PeriodIndexes, DatetimeIndexes with a frequency set, RangesIndexes, and NumericIndex with a unit increment support extending. The index is set will contain the position relative to the data length.\n",
      "  UserWarning,\n"
     ]
    },
    {
     "data": {
      "text/plain": [
       "[<matplotlib.lines.Line2D at 0x236210f3588>]"
      ]
     },
     "execution_count": 368,
     "metadata": {},
     "output_type": "execute_result"
    },
    {
     "data": {
      "image/png": "[encoded data removed]",
      "text/plain": [
       "<Figure size 432x288 with 1 Axes>"
      ]
     },
     "metadata": {
      "needs_background": "light"
     },
     "output_type": "display_data"
    }
   ],
   "source": [
    "ar1_train_data,ar1_test_data=data_scaled[\"Close\"].iloc[:len(data_scaled)-100],data_scaled[\"Close\"].iloc[len(data_scaled)-100:]\n",
    "\n",
    "optimal_ar_model=ar_select_order(ar1_train_data,maxlag=30)\n",
    "optimal_ar_model_fitted=optimal_ar_model.model.fit()\n",
    "print(optimal_ar_model_fitted.summary())\n",
    "ar1_predictions=optimal_ar_model_fitted.predict(start=len(ar1_train_data),end=len(ar1_train_data)+len(ar1_test_data)-1)\n",
    "for i in range(len(ar1_predictions)):\n",
    "    print('predicted=%f, expected=%f' %(ar1_predictions.iloc[i],ar1_test_data.iloc[i]))\n",
    "rmse=mean_squared_error(ar1_test_data,ar1_predictions)\n",
    "rmse_root=np.sqrt(rmse)\n",
    "print(\"mean squared error is: %.3f and root is %.3f\" %(rmse,rmse_root))\n",
    "\n",
    "plt.plot(ar1_test_data)\n",
    "plt.plot(ar1_predictions, color='red')\n",
    "\n"
   ]
  },
  {
   "cell_type": "code",
   "execution_count": 354,
   "metadata": {},
   "outputs": [
    {
     "name": "stderr",
     "output_type": "stream",
     "text": [
      "ipykernel_launcher:3: SettingWithCopyWarning: \n",
      "A value is trying to be set on a copy of a slice from a DataFrame.\n",
      "Try using .loc[row_indexer,col_indexer] = value instead\n",
      "\n",
      "See the caveats in the documentation: https://pandas.pydata.org/pandas-docs/stable/user_guide/indexing.html#returning-a-view-versus-a-copy\n"
     ]
    },
    {
     "data": {
      "text/html": [
       "<div>\n",
       "<style scoped>\n",
       "    .dataframe tbody tr th:only-of-type {\n",
       "        vertical-align: middle;\n",
       "    }\n",
       "\n",
       "    .dataframe tbody tr th {\n",
       "        vertical-align: top;\n",
       "    }\n",
       "\n",
       "    .dataframe thead th {\n",
       "        text-align: right;\n",
       "    }\n",
       "</style>\n",
       "<table border=\"1\" class=\"dataframe\">\n",
       "  <thead>\n",
       "    <tr style=\"text-align: right;\">\n",
       "      <th></th>\n",
       "      <th>Date</th>\n",
       "      <th>Close</th>\n",
       "      <th>Change</th>\n",
       "    </tr>\n",
       "  </thead>\n",
       "  <tbody>\n",
       "    <tr>\n",
       "      <th>0</th>\n",
       "      <td>2016-12-13</td>\n",
       "      <td>780.556030</td>\n",
       "      <td>0.0</td>\n",
       "    </tr>\n",
       "    <tr>\n",
       "      <th>77</th>\n",
       "      <td>2017-02-28</td>\n",
       "      <td>1179.969971</td>\n",
       "      <td>0.0</td>\n",
       "    </tr>\n",
       "  </tbody>\n",
       "</table>\n",
       "</div>"
      ],
      "text/plain": [
       "          Date        Close  Change\n",
       "0   2016-12-13   780.556030     0.0\n",
       "77  2017-02-28  1179.969971     0.0"
      ]
     },
     "execution_count": 354,
     "metadata": {},
     "output_type": "execute_result"
    }
   ],
   "source": [
    "\n",
    "pd.plotting.register_matplotlib_converters()\n",
    "ar_data=data[[\"Date\",\"Close\"]]\n",
    "ar_data['Change']=ar_data[\"Close\"].pct_change().fillna(0)\n",
    "ar_data.loc[ar_data['Change']==0]\n",
    "\n",
    "\n",
    "\n",
    "\n",
    "\n"
   ]
  },
  {
   "cell_type": "markdown",
   "metadata": {},
   "source": [
    "Only one day in our data has 0 percent change. We will drop them and keep the rest to train our model"
   ]
  },
  {
   "cell_type": "code",
   "execution_count": 355,
   "metadata": {},
   "outputs": [
    {
     "name": "stderr",
     "output_type": "stream",
     "text": [
      "c:\\Users\\pchrk\\OneDrive\\Desktop\\cs\\3rd\\ml\\ml-env\\lib\\site-packages\\pandas\\core\\frame.py:4913: SettingWithCopyWarning: \n",
      "A value is trying to be set on a copy of a slice from a DataFrame\n",
      "\n",
      "See the caveats in the documentation: https://pandas.pydata.org/pandas-docs/stable/user_guide/indexing.html#returning-a-view-versus-a-copy\n",
      "  errors=errors,\n"
     ]
    },
    {
     "data": {
      "text/plain": [
       "(1821, 3)"
      ]
     },
     "execution_count": 355,
     "metadata": {},
     "output_type": "execute_result"
    }
   ],
   "source": [
    "id=ar_data.loc[ar_data['Change']==0].index\n",
    "ar_data.drop(id,axis=0, inplace=True)\n",
    "ar_data.shape"
   ]
  },
  {
   "cell_type": "markdown",
   "metadata": {},
   "source": [
    "Add column (\"Up down\") that spots if there is a positive or negative change in close price"
   ]
  },
  {
   "cell_type": "code",
   "execution_count": 356,
   "metadata": {},
   "outputs": [
    {
     "name": "stderr",
     "output_type": "stream",
     "text": [
      "ipykernel_launcher:1: SettingWithCopyWarning: \n",
      "A value is trying to be set on a copy of a slice from a DataFrame.\n",
      "Try using .loc[row_indexer,col_indexer] = value instead\n",
      "\n",
      "See the caveats in the documentation: https://pandas.pydata.org/pandas-docs/stable/user_guide/indexing.html#returning-a-view-versus-a-copy\n"
     ]
    },
    {
     "data": {
      "text/html": [
       "<div>\n",
       "<style scoped>\n",
       "    .dataframe tbody tr th:only-of-type {\n",
       "        vertical-align: middle;\n",
       "    }\n",
       "\n",
       "    .dataframe tbody tr th {\n",
       "        vertical-align: top;\n",
       "    }\n",
       "\n",
       "    .dataframe thead th {\n",
       "        text-align: right;\n",
       "    }\n",
       "</style>\n",
       "<table border=\"1\" class=\"dataframe\">\n",
       "  <thead>\n",
       "    <tr style=\"text-align: right;\">\n",
       "      <th></th>\n",
       "      <th>Date</th>\n",
       "      <th>Close</th>\n",
       "      <th>Change</th>\n",
       "      <th>Up-Down</th>\n",
       "    </tr>\n",
       "  </thead>\n",
       "  <tbody>\n",
       "    <tr>\n",
       "      <th>1</th>\n",
       "      <td>2016-12-14</td>\n",
       "      <td>781.481018</td>\n",
       "      <td>0.001185</td>\n",
       "      <td>1</td>\n",
       "    </tr>\n",
       "    <tr>\n",
       "      <th>2</th>\n",
       "      <td>2016-12-15</td>\n",
       "      <td>778.088013</td>\n",
       "      <td>-0.004342</td>\n",
       "      <td>0</td>\n",
       "    </tr>\n",
       "    <tr>\n",
       "      <th>3</th>\n",
       "      <td>2016-12-16</td>\n",
       "      <td>784.906982</td>\n",
       "      <td>0.008764</td>\n",
       "      <td>1</td>\n",
       "    </tr>\n",
       "    <tr>\n",
       "      <th>4</th>\n",
       "      <td>2016-12-17</td>\n",
       "      <td>790.828979</td>\n",
       "      <td>0.007545</td>\n",
       "      <td>1</td>\n",
       "    </tr>\n",
       "    <tr>\n",
       "      <th>5</th>\n",
       "      <td>2016-12-18</td>\n",
       "      <td>790.530029</td>\n",
       "      <td>-0.000378</td>\n",
       "      <td>0</td>\n",
       "    </tr>\n",
       "    <tr>\n",
       "      <th>...</th>\n",
       "      <td>...</td>\n",
       "      <td>...</td>\n",
       "      <td>...</td>\n",
       "      <td>...</td>\n",
       "    </tr>\n",
       "    <tr>\n",
       "      <th>1822</th>\n",
       "      <td>2021-09-12</td>\n",
       "      <td>47672.121090</td>\n",
       "      <td>-0.056087</td>\n",
       "      <td>0</td>\n",
       "    </tr>\n",
       "    <tr>\n",
       "      <th>1823</th>\n",
       "      <td>2021-10-12</td>\n",
       "      <td>47243.304690</td>\n",
       "      <td>-0.008995</td>\n",
       "      <td>0</td>\n",
       "    </tr>\n",
       "    <tr>\n",
       "      <th>1824</th>\n",
       "      <td>2021-11-12</td>\n",
       "      <td>49362.507810</td>\n",
       "      <td>0.044857</td>\n",
       "      <td>1</td>\n",
       "    </tr>\n",
       "    <tr>\n",
       "      <th>1825</th>\n",
       "      <td>2021-12-12</td>\n",
       "      <td>50098.335940</td>\n",
       "      <td>0.014907</td>\n",
       "      <td>1</td>\n",
       "    </tr>\n",
       "    <tr>\n",
       "      <th>1826</th>\n",
       "      <td>2021-12-13</td>\n",
       "      <td>47989.250000</td>\n",
       "      <td>-0.042099</td>\n",
       "      <td>0</td>\n",
       "    </tr>\n",
       "  </tbody>\n",
       "</table>\n",
       "<p>1821 rows × 4 columns</p>\n",
       "</div>"
      ],
      "text/plain": [
       "            Date         Close    Change  Up-Down\n",
       "1     2016-12-14    781.481018  0.001185        1\n",
       "2     2016-12-15    778.088013 -0.004342        0\n",
       "3     2016-12-16    784.906982  0.008764        1\n",
       "4     2016-12-17    790.828979  0.007545        1\n",
       "5     2016-12-18    790.530029 -0.000378        0\n",
       "...          ...           ...       ...      ...\n",
       "1822  2021-09-12  47672.121090 -0.056087        0\n",
       "1823  2021-10-12  47243.304690 -0.008995        0\n",
       "1824  2021-11-12  49362.507810  0.044857        1\n",
       "1825  2021-12-12  50098.335940  0.014907        1\n",
       "1826  2021-12-13  47989.250000 -0.042099        0\n",
       "\n",
       "[1821 rows x 4 columns]"
      ]
     },
     "execution_count": 356,
     "metadata": {},
     "output_type": "execute_result"
    }
   ],
   "source": [
    "ar_data[\"Up-Down\"]=(ar_data[\"Change\"]>0).astype(int)\n",
    "ar_data"
   ]
  }
 ],
 "metadata": {
  "interpreter": {
   "hash": "295f237db84f6e1d57b8b5e6776bbd0890ede2c06c5d1ce3eb1b5f5afe489463"
  },
  "kernelspec": {
   "display_name": "Python 3.7.8 64-bit ('ml-env': venv)",
   "language": "python",
   "name": "python3"
  },
  "language_info": {
   "codemirror_mode": {
    "name": "ipython",
    "version": 3
   },
   "file_extension": ".py",
   "mimetype": "text/x-python",
   "name": "python",
   "nbconvert_exporter": "python",
   "pygments_lexer": "ipython3",
   "version": "3.7.8"
  },
  "orig_nbformat": 4
 },
 "nbformat": 4,
 "nbformat_minor": 2
}
