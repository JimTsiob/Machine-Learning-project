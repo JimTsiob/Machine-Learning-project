{
 "cells": [
  {
   "cell_type": "code",
   "execution_count": 275,
   "metadata": {},
   "outputs": [
    {
     "data": {
      "text/plain": [
       "Date         0\n",
       "Open         0\n",
       "High         0\n",
       "Low          0\n",
       "Close        0\n",
       "Adj Close    0\n",
       "Volume       0\n",
       "dtype: int64"
      ]
     },
     "execution_count": 275,
     "metadata": {},
     "output_type": "execute_result"
    }
   ],
   "source": [
    "import pandas as pd\n",
    "import matplotlib.pyplot as plt\n",
    "import numpy as np\n",
    "from sklearn import preprocessing\n",
    "from scipy import stats\n",
    "\n",
    "data=pd.read_csv('BTC-USD.csv',parse_dates=[\"Date\"],sep=',')\n",
    "\n",
    "#convert dates from string to datetime objects\n",
    "data[\"Date\"]=pd.to_datetime(data[\"Date\"])\n",
    "\n",
    "#keep only the date part of datetime object\n",
    "data[\"Date\"]=data[\"Date\"].dt.date\n",
    "\n",
    "#drop the nan values\n",
    "data.isna().sum()\n",
    "data.dropna(axis=0,how='any',inplace=True)\n",
    "data.isna().sum()\n"
   ]
  },
  {
   "cell_type": "code",
   "execution_count": 276,
   "metadata": {},
   "outputs": [
    {
     "data": {
      "text/html": [
       "<div>\n",
       "<style scoped>\n",
       "    .dataframe tbody tr th:only-of-type {\n",
       "        vertical-align: middle;\n",
       "    }\n",
       "\n",
       "    .dataframe tbody tr th {\n",
       "        vertical-align: top;\n",
       "    }\n",
       "\n",
       "    .dataframe thead th {\n",
       "        text-align: right;\n",
       "    }\n",
       "</style>\n",
       "<table border=\"1\" class=\"dataframe\">\n",
       "  <thead>\n",
       "    <tr style=\"text-align: right;\">\n",
       "      <th></th>\n",
       "      <th>Date</th>\n",
       "      <th>Open</th>\n",
       "      <th>High</th>\n",
       "      <th>Low</th>\n",
       "      <th>Close</th>\n",
       "      <th>Adj Close</th>\n",
       "      <th>Volume</th>\n",
       "      <th>Time_dummy</th>\n",
       "      <th>Change</th>\n",
       "    </tr>\n",
       "  </thead>\n",
       "  <tbody>\n",
       "    <tr>\n",
       "      <th>0</th>\n",
       "      <td>2016-12-13</td>\n",
       "      <td>780.646973</td>\n",
       "      <td>788.460022</td>\n",
       "      <td>777.961975</td>\n",
       "      <td>780.556030</td>\n",
       "      <td>780.556030</td>\n",
       "      <td>8.164560e+07</td>\n",
       "      <td>0.0</td>\n",
       "      <td>0.000000</td>\n",
       "    </tr>\n",
       "    <tr>\n",
       "      <th>1</th>\n",
       "      <td>2016-12-14</td>\n",
       "      <td>780.005005</td>\n",
       "      <td>782.033997</td>\n",
       "      <td>776.838989</td>\n",
       "      <td>781.481018</td>\n",
       "      <td>781.481018</td>\n",
       "      <td>7.597900e+07</td>\n",
       "      <td>1.0</td>\n",
       "      <td>0.001185</td>\n",
       "    </tr>\n",
       "    <tr>\n",
       "      <th>2</th>\n",
       "      <td>2016-12-15</td>\n",
       "      <td>780.070007</td>\n",
       "      <td>781.434998</td>\n",
       "      <td>777.802002</td>\n",
       "      <td>778.088013</td>\n",
       "      <td>778.088013</td>\n",
       "      <td>8.158010e+07</td>\n",
       "      <td>2.0</td>\n",
       "      <td>-0.004342</td>\n",
       "    </tr>\n",
       "    <tr>\n",
       "      <th>3</th>\n",
       "      <td>2016-12-16</td>\n",
       "      <td>778.963013</td>\n",
       "      <td>785.031982</td>\n",
       "      <td>778.963013</td>\n",
       "      <td>784.906982</td>\n",
       "      <td>784.906982</td>\n",
       "      <td>8.360820e+07</td>\n",
       "      <td>3.0</td>\n",
       "      <td>0.008764</td>\n",
       "    </tr>\n",
       "    <tr>\n",
       "      <th>4</th>\n",
       "      <td>2016-12-17</td>\n",
       "      <td>785.166016</td>\n",
       "      <td>792.508972</td>\n",
       "      <td>784.864014</td>\n",
       "      <td>790.828979</td>\n",
       "      <td>790.828979</td>\n",
       "      <td>7.898980e+07</td>\n",
       "      <td>4.0</td>\n",
       "      <td>0.007545</td>\n",
       "    </tr>\n",
       "    <tr>\n",
       "      <th>...</th>\n",
       "      <td>...</td>\n",
       "      <td>...</td>\n",
       "      <td>...</td>\n",
       "      <td>...</td>\n",
       "      <td>...</td>\n",
       "      <td>...</td>\n",
       "      <td>...</td>\n",
       "      <td>...</td>\n",
       "      <td>...</td>\n",
       "    </tr>\n",
       "    <tr>\n",
       "      <th>1818</th>\n",
       "      <td>2021-09-12</td>\n",
       "      <td>50450.082030</td>\n",
       "      <td>50797.164060</td>\n",
       "      <td>47358.351560</td>\n",
       "      <td>47672.121090</td>\n",
       "      <td>47672.121090</td>\n",
       "      <td>2.960358e+10</td>\n",
       "      <td>1818.0</td>\n",
       "      <td>-0.056087</td>\n",
       "    </tr>\n",
       "    <tr>\n",
       "      <th>1819</th>\n",
       "      <td>2021-10-12</td>\n",
       "      <td>47642.144530</td>\n",
       "      <td>50015.253910</td>\n",
       "      <td>47023.699220</td>\n",
       "      <td>47243.304690</td>\n",
       "      <td>47243.304690</td>\n",
       "      <td>3.096601e+10</td>\n",
       "      <td>1819.0</td>\n",
       "      <td>-0.008995</td>\n",
       "    </tr>\n",
       "    <tr>\n",
       "      <th>1820</th>\n",
       "      <td>2021-11-12</td>\n",
       "      <td>47264.632810</td>\n",
       "      <td>49458.210940</td>\n",
       "      <td>46942.347660</td>\n",
       "      <td>49362.507810</td>\n",
       "      <td>49362.507810</td>\n",
       "      <td>2.577587e+10</td>\n",
       "      <td>1820.0</td>\n",
       "      <td>0.044857</td>\n",
       "    </tr>\n",
       "    <tr>\n",
       "      <th>1821</th>\n",
       "      <td>2021-12-12</td>\n",
       "      <td>49354.855470</td>\n",
       "      <td>50724.867190</td>\n",
       "      <td>48725.851560</td>\n",
       "      <td>50098.335940</td>\n",
       "      <td>50098.335940</td>\n",
       "      <td>2.193922e+10</td>\n",
       "      <td>1821.0</td>\n",
       "      <td>0.014907</td>\n",
       "    </tr>\n",
       "    <tr>\n",
       "      <th>1822</th>\n",
       "      <td>2021-12-13</td>\n",
       "      <td>50169.335940</td>\n",
       "      <td>50173.035160</td>\n",
       "      <td>47989.250000</td>\n",
       "      <td>47989.250000</td>\n",
       "      <td>47989.250000</td>\n",
       "      <td>2.426276e+10</td>\n",
       "      <td>1822.0</td>\n",
       "      <td>-0.042099</td>\n",
       "    </tr>\n",
       "  </tbody>\n",
       "</table>\n",
       "<p>1823 rows × 9 columns</p>\n",
       "</div>"
      ],
      "text/plain": [
       "            Date          Open          High           Low         Close  \\\n",
       "0     2016-12-13    780.646973    788.460022    777.961975    780.556030   \n",
       "1     2016-12-14    780.005005    782.033997    776.838989    781.481018   \n",
       "2     2016-12-15    780.070007    781.434998    777.802002    778.088013   \n",
       "3     2016-12-16    778.963013    785.031982    778.963013    784.906982   \n",
       "4     2016-12-17    785.166016    792.508972    784.864014    790.828979   \n",
       "...          ...           ...           ...           ...           ...   \n",
       "1818  2021-09-12  50450.082030  50797.164060  47358.351560  47672.121090   \n",
       "1819  2021-10-12  47642.144530  50015.253910  47023.699220  47243.304690   \n",
       "1820  2021-11-12  47264.632810  49458.210940  46942.347660  49362.507810   \n",
       "1821  2021-12-12  49354.855470  50724.867190  48725.851560  50098.335940   \n",
       "1822  2021-12-13  50169.335940  50173.035160  47989.250000  47989.250000   \n",
       "\n",
       "         Adj Close        Volume  Time_dummy    Change  \n",
       "0       780.556030  8.164560e+07         0.0  0.000000  \n",
       "1       781.481018  7.597900e+07         1.0  0.001185  \n",
       "2       778.088013  8.158010e+07         2.0 -0.004342  \n",
       "3       784.906982  8.360820e+07         3.0  0.008764  \n",
       "4       790.828979  7.898980e+07         4.0  0.007545  \n",
       "...            ...           ...         ...       ...  \n",
       "1818  47672.121090  2.960358e+10      1818.0 -0.056087  \n",
       "1819  47243.304690  3.096601e+10      1819.0 -0.008995  \n",
       "1820  49362.507810  2.577587e+10      1820.0  0.044857  \n",
       "1821  50098.335940  2.193922e+10      1821.0  0.014907  \n",
       "1822  47989.250000  2.426276e+10      1822.0 -0.042099  \n",
       "\n",
       "[1823 rows x 9 columns]"
      ]
     },
     "execution_count": 276,
     "metadata": {},
     "output_type": "execute_result"
    }
   ],
   "source": [
    "data['Time_dummy']=np.arange(len(data.index))\n",
    "data['Time_dummy']=data['Time_dummy'].astype('float64')\n",
    "data['Change']=data[\"Close\"].pct_change().fillna(0)\n",
    "data.reset_index(drop=True,inplace=True)\n",
    "data"
   ]
  },
  {
   "cell_type": "code",
   "execution_count": 277,
   "metadata": {},
   "outputs": [],
   "source": [
    "from statsmodels.tsa.arima.model import ARIMA\n",
    "from statsmodels.tsa.stattools import adfuller\n",
    "import statsmodels.api as sm"
   ]
  },
  {
   "cell_type": "code",
   "execution_count": 278,
   "metadata": {},
   "outputs": [
    {
     "name": "stdout",
     "output_type": "stream",
     "text": [
      "(-43.798215377190324, 0.0, 0, 1822, {'1%': -3.4339441475744668, '5%': -2.8631276157416945, '10%': -2.5676151930364455}, -6300.154499173412)\n"
     ]
    }
   ],
   "source": [
    "stationarity_test=adfuller(data['Change'])\n",
    "print(stationarity_test)"
   ]
  },
  {
   "cell_type": "markdown",
   "metadata": {},
   "source": [
    "Βλέπουμε ότι η σειρά είναι στάσιμη αφού ο έλεγχος Dickey-Fuller έχει σαν \n",
    "Hο: Η σειρά δεν είναι στάσιμη\n",
    "H1: Η σειρά είναι στάσιμη\n",
    "\n",
    "Για τιμή στατιστικού ελέγχου του τεστ -43.79 και κριτική τιμή -3.43 απορρίπτουμε την Ho. \n",
    "Αρα η σειρά μας είναι στάσιμη και μπορούμε να συνεχίσουμε με το υπόδειγμα"
   ]
  },
  {
   "cell_type": "code",
   "execution_count": 279,
   "metadata": {},
   "outputs": [
    {
     "data": {
      "text/plain": [
       "<AxesSubplot:>"
      ]
     },
     "execution_count": 279,
     "metadata": {},
     "output_type": "execute_result"
    },
    {
     "data": {
      "image/png": "[encoded data removed]",
      "text/plain": [
       "<Figure size 864x576 with 1 Axes>"
      ]
     },
     "metadata": {
      "needs_background": "light"
     },
     "output_type": "display_data"
    }
   ],
   "source": [
    "data['Change'].plot(figsize=(12,8))"
   ]
  },
  {
   "cell_type": "code",
   "execution_count": 280,
   "metadata": {},
   "outputs": [
    {
     "name": "stderr",
     "output_type": "stream",
     "text": [
      "c:\\Users\\pchrk\\OneDrive\\Desktop\\cs\\3rd\\ml\\ml-env\\lib\\site-packages\\statsmodels\\graphics\\tsaplots.py:353: FutureWarning: The default method 'yw' can produce PACF values outside of the [-1,1] interval. After 0.13, the default will change tounadjusted Yule-Walker ('ywm'). You can use this method now by setting method='ywm'.\n",
      "  FutureWarning,\n"
     ]
    },
    {
     "data": {
      "image/png": "[encoded data removed]",
      "text/plain": [
       "<Figure size 864x576 with 2 Axes>"
      ]
     },
     "metadata": {
      "needs_background": "light"
     },
     "output_type": "display_data"
    }
   ],
   "source": [
    "fig=plt.figure(figsize=(12,8))\n",
    "ax1=fig.add_subplot(211)\n",
    "fig=sm.graphics.tsa.plot_acf(data['Change'],ax=ax1)\n",
    "ax2=fig.add_subplot(212)\n",
    "fig=sm.graphics.tsa.plot_pacf(data['Change'],ax=ax2)\n",
    "\n",
    "\n"
   ]
  },
  {
   "cell_type": "code",
   "execution_count": 281,
   "metadata": {},
   "outputs": [
    {
     "data": {
      "text/html": [
       "<div>\n",
       "<style scoped>\n",
       "    .dataframe tbody tr th:only-of-type {\n",
       "        vertical-align: middle;\n",
       "    }\n",
       "\n",
       "    .dataframe tbody tr th {\n",
       "        vertical-align: top;\n",
       "    }\n",
       "\n",
       "    .dataframe thead th {\n",
       "        text-align: right;\n",
       "    }\n",
       "</style>\n",
       "<table border=\"1\" class=\"dataframe\">\n",
       "  <thead>\n",
       "    <tr style=\"text-align: right;\">\n",
       "      <th></th>\n",
       "      <th>Date</th>\n",
       "      <th>Change</th>\n",
       "    </tr>\n",
       "  </thead>\n",
       "  <tbody>\n",
       "    <tr>\n",
       "      <th>1</th>\n",
       "      <td>2016-12-14</td>\n",
       "      <td>0.001185</td>\n",
       "    </tr>\n",
       "    <tr>\n",
       "      <th>2</th>\n",
       "      <td>2016-12-15</td>\n",
       "      <td>-0.004342</td>\n",
       "    </tr>\n",
       "    <tr>\n",
       "      <th>3</th>\n",
       "      <td>2016-12-16</td>\n",
       "      <td>0.008764</td>\n",
       "    </tr>\n",
       "    <tr>\n",
       "      <th>4</th>\n",
       "      <td>2016-12-17</td>\n",
       "      <td>0.007545</td>\n",
       "    </tr>\n",
       "    <tr>\n",
       "      <th>5</th>\n",
       "      <td>2016-12-18</td>\n",
       "      <td>-0.000378</td>\n",
       "    </tr>\n",
       "    <tr>\n",
       "      <th>...</th>\n",
       "      <td>...</td>\n",
       "      <td>...</td>\n",
       "    </tr>\n",
       "    <tr>\n",
       "      <th>1818</th>\n",
       "      <td>2021-09-12</td>\n",
       "      <td>-0.056087</td>\n",
       "    </tr>\n",
       "    <tr>\n",
       "      <th>1819</th>\n",
       "      <td>2021-10-12</td>\n",
       "      <td>-0.008995</td>\n",
       "    </tr>\n",
       "    <tr>\n",
       "      <th>1820</th>\n",
       "      <td>2021-11-12</td>\n",
       "      <td>0.044857</td>\n",
       "    </tr>\n",
       "    <tr>\n",
       "      <th>1821</th>\n",
       "      <td>2021-12-12</td>\n",
       "      <td>0.014907</td>\n",
       "    </tr>\n",
       "    <tr>\n",
       "      <th>1822</th>\n",
       "      <td>2021-12-13</td>\n",
       "      <td>-0.042099</td>\n",
       "    </tr>\n",
       "  </tbody>\n",
       "</table>\n",
       "<p>1822 rows × 2 columns</p>\n",
       "</div>"
      ],
      "text/plain": [
       "            Date    Change\n",
       "1     2016-12-14  0.001185\n",
       "2     2016-12-15 -0.004342\n",
       "3     2016-12-16  0.008764\n",
       "4     2016-12-17  0.007545\n",
       "5     2016-12-18 -0.000378\n",
       "...          ...       ...\n",
       "1818  2021-09-12 -0.056087\n",
       "1819  2021-10-12 -0.008995\n",
       "1820  2021-11-12  0.044857\n",
       "1821  2021-12-12  0.014907\n",
       "1822  2021-12-13 -0.042099\n",
       "\n",
       "[1822 rows x 2 columns]"
      ]
     },
     "execution_count": 281,
     "metadata": {},
     "output_type": "execute_result"
    }
   ],
   "source": [
    "y=data[['Date','Change']]\n",
    "\n",
    "y=y[1:]\n",
    "y"
   ]
  },
  {
   "cell_type": "code",
   "execution_count": 282,
   "metadata": {},
   "outputs": [
    {
     "name": "stderr",
     "output_type": "stream",
     "text": [
      "c:\\Users\\pchrk\\OneDrive\\Desktop\\cs\\3rd\\ml\\ml-env\\lib\\site-packages\\statsmodels\\base\\model.py:606: ConvergenceWarning: Maximum Likelihood optimization failed to converge. Check mle_retvals\n",
      "  ConvergenceWarning)\n"
     ]
    },
    {
     "data": {
      "text/plain": [
       "const     0.003148\n",
       "ma.L1    -0.025840\n",
       "sigma2    0.001758\n",
       "dtype: float64"
      ]
     },
     "execution_count": 282,
     "metadata": {},
     "output_type": "execute_result"
    }
   ],
   "source": [
    "ma_order1_model=ARIMA(y['Change'],order=(0,0,1)).fit()\n",
    "ma_order1_model.params"
   ]
  },
  {
   "cell_type": "code",
   "execution_count": 283,
   "metadata": {},
   "outputs": [
    {
     "name": "stdout",
     "output_type": "stream",
     "text": [
      "Akaike information criterion is:  -6381.247087227415 \n",
      " Bayesian Information Criterion is: -6364.724016993956\n"
     ]
    }
   ],
   "source": [
    "print(\"Akaike information criterion is: \",ma_order1_model.aic,\"\\n Bayesian Information Criterion is:\", ma_order1_model.bic)"
   ]
  },
  {
   "cell_type": "code",
   "execution_count": 284,
   "metadata": {},
   "outputs": [
    {
     "data": {
      "text/plain": [
       "const     0.003148\n",
       "ma.L1    -0.026216\n",
       "ma.L2     0.028246\n",
       "sigma2    0.001757\n",
       "dtype: float64"
      ]
     },
     "execution_count": 284,
     "metadata": {},
     "output_type": "execute_result"
    }
   ],
   "source": [
    "ma_order2_model=ARIMA(endog=y['Change'],order=(0,0,2)).fit()\n",
    "ma_order2_model.params"
   ]
  },
  {
   "cell_type": "code",
   "execution_count": 285,
   "metadata": {},
   "outputs": [
    {
     "name": "stdout",
     "output_type": "stream",
     "text": [
      "Akaike information criterion is:  -6380.730364676287 \n",
      " Bayesian Information Criterion is: -6358.699604365007\n"
     ]
    }
   ],
   "source": [
    "print(\"Akaike information criterion is: \",ma_order2_model.aic,\"\\n Bayesian Information Criterion is:\", ma_order2_model.bic)"
   ]
  },
  {
   "cell_type": "markdown",
   "metadata": {},
   "source": [
    "Εφαρμόζουμε έλεγχο Durbin Watson για να ελέγξουμε την υπαρξη αυτοσυσχέτισης σε lag=1 των καταλοίπων .\n",
    "Ho:Δεν υφίσταται αυτοσυσχέτιση σε lag=1 για τα κατάλοιπα\n",
    "H1:Yφίσταται αυτοσυσχέτιση σε lag=1 για τα κατάλοιπα"
   ]
  },
  {
   "cell_type": "code",
   "execution_count": 286,
   "metadata": {},
   "outputs": [
    {
     "data": {
      "text/plain": [
       "1.9994498221584491"
      ]
     },
     "execution_count": 286,
     "metadata": {},
     "output_type": "execute_result"
    }
   ],
   "source": [
    "sm.stats.durbin_watson(ma_order1_model.resid.values)"
   ]
  },
  {
   "cell_type": "code",
   "execution_count": 287,
   "metadata": {},
   "outputs": [
    {
     "data": {
      "text/plain": [
       "1.9985964445312017"
      ]
     },
     "execution_count": 287,
     "metadata": {},
     "output_type": "execute_result"
    }
   ],
   "source": [
    "sm.stats.durbin_watson(ma_order2_model.resid.values)"
   ]
  },
  {
   "cell_type": "markdown",
   "metadata": {},
   "source": [
    "Οι κριτικές τιμές για N=1700 και k=1 είναι [1.886,1.888] επομένως για επίπεδο σημαντικότητας 1% απορρίπτουμε την Hο\n",
    "Οι κριτικές τιμές για N=1700 και k=1 είναι [1.918,1.923] επομένως για επίπεδο σημαντικότητας 5% απορρίπτουμε την Hο\n",
    "\n",
    "**Υπάρχει αυτοσυσχέτιση στα κατάλοιπα!** \n",
    "\n"
   ]
  },
  {
   "cell_type": "code",
   "execution_count": 288,
   "metadata": {},
   "outputs": [
    {
     "data": {
      "text/plain": [
       "NormaltestResult(statistic=257.55626794560783, pvalue=1.1813185558765648e-56)"
      ]
     },
     "execution_count": 288,
     "metadata": {},
     "output_type": "execute_result"
    }
   ],
   "source": [
    "residuals_1=ma_order1_model.resid\n",
    "stats.normaltest(residuals_1)"
   ]
  },
  {
   "cell_type": "markdown",
   "metadata": {},
   "source": [
    "Ελέγχουμε αν τα κατάλοιπα ακολουθούν την κανονική κατανομή\n",
    "Ho:Τα κατάλοιπα ακολουθούν κανονική κατανομή\n",
    "Η1 : Τα κατάλοιπα δεν ακολουθούν κανονική κατανομή\n",
    "\n",
    "Για pval=7.22e-54 < 1% απορρίπτουμε την Ho "
   ]
  },
  {
   "cell_type": "code",
   "execution_count": 289,
   "metadata": {},
   "outputs": [
    {
     "data": {
      "text/plain": [
       "NormaltestResult(statistic=256.99588972240605, pvalue=1.563333415679511e-56)"
      ]
     },
     "execution_count": 289,
     "metadata": {},
     "output_type": "execute_result"
    }
   ],
   "source": [
    "residuals_2=ma_order2_model.resid\n",
    "stats.normaltest(residuals_2)"
   ]
  },
  {
   "cell_type": "markdown",
   "metadata": {},
   "source": [
    "Ελέγχουμε αν τα κατάλοιπα ακολουθούν την κανονική κατανομή\n",
    "Ho:Τα κατάλοιπα ακολουθούν κανονική κατανομή\n",
    "Η1 : Τα κατάλοιπα δεν ακολουθούν κανονική κατανομή\n",
    "\n",
    "Για pval=9.41e-54 < 1% απορρίπτουμε την Ho "
   ]
  },
  {
   "cell_type": "code",
   "execution_count": 290,
   "metadata": {},
   "outputs": [
    {
     "data": {
      "image/png": "[encoded data removed]",
      "text/plain": [
       "<Figure size 864x576 with 1 Axes>"
      ]
     },
     "metadata": {
      "needs_background": "light"
     },
     "output_type": "display_data"
    }
   ],
   "source": [
    "from statsmodels.graphics.api import qqplot\n",
    "\n",
    "fig3 = plt.figure(figsize=(12, 8))\n",
    "ax3 = fig3.add_subplot(111)\n",
    "ax3.set_title(\"Difference between residuals(ma1 model) distribution and normal distr.\")\n",
    "fig3 = qqplot(residuals_1, line=\"q\", ax=ax3, fit=True)"
   ]
  },
  {
   "cell_type": "code",
   "execution_count": 291,
   "metadata": {},
   "outputs": [
    {
     "data": {
      "image/png": "[encoded data removed]",
      "text/plain": [
       "<Figure size 864x576 with 1 Axes>"
      ]
     },
     "metadata": {
      "needs_background": "light"
     },
     "output_type": "display_data"
    }
   ],
   "source": [
    "fig4 = plt.figure(figsize=(12, 8))\n",
    "ax4 = fig4.add_subplot(111)\n",
    "ax4.set_title(\"Difference between residuals(ma2 model) distribution and normal distr.\")\n",
    "fig4 = qqplot(residuals_2, line=\"q\", ax=ax4, fit=True)"
   ]
  },
  {
   "cell_type": "markdown",
   "metadata": {},
   "source": [
    "Από το διάγραμμα βλέπουμε ότι διαφοροποιούνται οι δύο κατανομές ειδικά στα άκρα. Αυτό συμβαίνει γιατί η κατανομή των καταλοίπων προέρχεται από αποδόσεις οικονομικών δεδομένων οι οποίες είναι ιδιαίτερα heavy-tail."
   ]
  },
  {
   "cell_type": "code",
   "execution_count": 313,
   "metadata": {},
   "outputs": [
    {
     "data": {
      "text/plain": [
       "1723    0.003264\n",
       "1724    0.002297\n",
       "1725    0.002768\n",
       "1726    0.006078\n",
       "1727    0.003703\n",
       "          ...   \n",
       "1818    0.003329\n",
       "1819    0.004684\n",
       "1820    0.003502\n",
       "1821    0.002080\n",
       "1822    0.002817\n",
       "Name: predicted_mean, Length: 100, dtype: float64"
      ]
     },
     "execution_count": 313,
     "metadata": {},
     "output_type": "execute_result"
    }
   ],
   "source": [
    "predictions_model1=ma_order1_model.predict(start=1722,end=1821,dynamic=False)\n",
    "predictions_model1"
   ]
  },
  {
   "cell_type": "code",
   "execution_count": 317,
   "metadata": {},
   "outputs": [
    {
     "data": {
      "text/plain": [
       "1723    0.036216\n",
       "1724    0.017006\n",
       "1725   -0.110622\n",
       "1726   -0.015375\n",
       "1727    0.006509\n",
       "          ...   \n",
       "1818   -0.056087\n",
       "1819   -0.008995\n",
       "1820    0.044857\n",
       "1821    0.014907\n",
       "1822   -0.042099\n",
       "Name: Change, Length: 100, dtype: float64"
      ]
     },
     "execution_count": 317,
     "metadata": {},
     "output_type": "execute_result"
    }
   ],
   "source": [
    "y['Change'][1722:1823]"
   ]
  },
  {
   "cell_type": "markdown",
   "metadata": {},
   "source": [
    "Ελεγχος προβλεπτικής ικανότητας του μοντέλου μας για τις τελευταίες 100 in-sample παρατηρήσεις"
   ]
  },
  {
   "cell_type": "code",
   "execution_count": 318,
   "metadata": {},
   "outputs": [
    {
     "name": "stdout",
     "output_type": "stream",
     "text": [
      "r2 score is:  -0.011607243866052164\n",
      "mean s error is    0.0013097354276451144\n",
      "root mean squared error is== 0.03619026702920434\n"
     ]
    }
   ],
   "source": [
    "from sklearn.metrics import r2_score\n",
    "from sklearn.metrics import mean_squared_error\n",
    "\n",
    "# predicting the accuracy score\n",
    "score=r2_score(y['Change'][1722:1823],predictions_model1)\n",
    "print('r2 score is: ', score)\n",
    "print('mean s error is   ',mean_squared_error(y['Change'][1722:1823],predictions_model1))\n",
    "print('root mean squared error is==',np.sqrt(mean_squared_error(y['Change'][1722:1823],predictions_model1)))"
   ]
  },
  {
   "cell_type": "code",
   "execution_count": 321,
   "metadata": {},
   "outputs": [
    {
     "name": "stdout",
     "output_type": "stream",
     "text": [
      "r2 score is:  -0.011607243866052164\n",
      "mean s error is    0.0013028549245429036\n",
      "root mean squared error is== 0.03609508172234693\n"
     ]
    }
   ],
   "source": [
    "predictions_model2=ma_order2_model.predict(start=1722,end=1821,dynamic=True)\n",
    "# predicting the accuracy score\n",
    "score=r2_score(y['Change'][1722:1823],predictions_model1)\n",
    "print('r2 score is: ', score)\n",
    "print('mean s error is   ',mean_squared_error(y['Change'][1722:1823],predictions_model2))\n",
    "print('root mean squared error is==',np.sqrt(mean_squared_error(y['Change'][1722:1823],predictions_model2)))"
   ]
  },
  {
   "cell_type": "markdown",
   "metadata": {},
   "source": [
    "Παρατηρούμε πως το μοντέλο μας δεν έχει ικανοποιητική προβλεπτική ισχύ"
   ]
  }
 ],
 "metadata": {
  "interpreter": {
   "hash": "295f237db84f6e1d57b8b5e6776bbd0890ede2c06c5d1ce3eb1b5f5afe489463"
  },
  "kernelspec": {
   "display_name": "Python 3.7.8 64-bit ('ml-env': venv)",
   "language": "python",
   "name": "python3"
  },
  "language_info": {
   "codemirror_mode": {
    "name": "ipython",
    "version": 3
   },
   "file_extension": ".py",
   "mimetype": "text/x-python",
   "name": "python",
   "nbconvert_exporter": "python",
   "pygments_lexer": "ipython3",
   "version": "3.7.8"
  },
  "orig_nbformat": 4
 },
 "nbformat": 4,
 "nbformat_minor": 2
}
